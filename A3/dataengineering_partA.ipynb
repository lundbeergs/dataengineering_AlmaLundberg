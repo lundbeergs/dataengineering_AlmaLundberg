{
 "cells": [
  {
   "cell_type": "code",
   "execution_count": 1,
   "id": "fcb40689-fcac-4014-9f17-8111fd417fb3",
   "metadata": {},
   "outputs": [
    {
     "name": "stderr",
     "output_type": "stream",
     "text": [
      "Setting default log level to \"WARN\".\n",
      "To adjust logging level use sc.setLogLevel(newLevel). For SparkR, use setLogLevel(newLevel).\n",
      "24/03/06 21:53:29 WARN NativeCodeLoader: Unable to load native-hadoop library for your platform... using builtin-java classes where applicable\n"
     ]
    }
   ],
   "source": [
    "from pyspark.sql import SparkSession\n",
    "from operator import add\n",
    "\n",
    "spark_session = SparkSession\\\n",
    "        .builder\\\n",
    "        .master(\"spark://192.168.2.250:7077\") \\\n",
    "        .appName(\"AlmaLundbergSparkapplicationA3\")\\\n",
    "        .config(\"spark.dynamicAllocation.enabled\", False)\\\n",
    "        .config(\"spark.cores.max\", 4)\\\n",
    "        .config(\"spark.dynamicAllocation.shuffleTracking.enabled\",True)\\\n",
    "        .config(\"spark.shuffle.service.enabled\", False)\\\n",
    "        .config(\"spark.dynamicAllocation.executorIdleTimeout\",\"30s\")\\\n",
    "        .config(\"spark.executor.cores\",2)\\\n",
    "        .config(\"spark.driver.port\",9999)\\\n",
    "        .config(\"spark.blockManager.port\",10005)\\\n",
    "        .getOrCreate()\n",
    "\n",
    "# RDD API\n",
    "spark_context = spark_session.sparkContext\n",
    "\n",
    "spark_context.setLogLevel(\"ERROR\")"
   ]
  },
  {
   "cell_type": "code",
   "execution_count": 2,
   "id": "ffafb5a6-41c1-490f-a5ac-6bdcc88d364f",
   "metadata": {},
   "outputs": [
    {
     "name": "stderr",
     "output_type": "stream",
     "text": [
      "                                                                                \r"
     ]
    },
    {
     "name": "stdout",
     "output_type": "stream",
     "text": [
      "Total lines in English file: 1862234\n"
     ]
    },
    {
     "name": "stderr",
     "output_type": "stream",
     "text": [
      "[Stage 1:=======================================>                   (2 + 1) / 3]\r"
     ]
    },
    {
     "name": "stdout",
     "output_type": "stream",
     "text": [
      "Total lines in Swedish file: 1862234\n"
     ]
    },
    {
     "name": "stderr",
     "output_type": "stream",
     "text": [
      "                                                                                \r"
     ]
    }
   ],
   "source": [
    "# Loading the text file from HDFS\n",
    "lines_en = spark_context.textFile(\"hdfs://192.168.2.250:9000/europarl/europarl-v7.sv-en.en\")\n",
    "num_lines_en = lines_en.count()\n",
    "print(f\"Total lines in English file: {num_lines_en}\") \n",
    "\n",
    "lines_sv = spark_context.textFile(\"hdfs://192.168.2.250:9000/europarl/europarl-v7.sv-en.sv\")\n",
    "num_lines_sv = lines_sv.count()\n",
    "print(f\"Total lines in Swedish file: {num_lines_sv}\")"
   ]
  },
  {
   "cell_type": "code",
   "execution_count": 3,
   "id": "6d574749-5a3d-4e1c-b3e9-efef1a078fba",
   "metadata": {},
   "outputs": [
    {
     "name": "stdout",
     "output_type": "stream",
     "text": [
      "Number of partitions in English file: 2\n",
      "Number of partitions in Swedish file: 3\n"
     ]
    }
   ],
   "source": [
    "# Counting nmr of partitions in the English file\n",
    "num_partitions_en = lines_en.getNumPartitions()\n",
    "print(f\"Number of partitions in English file: {num_partitions_en}\")\n",
    "\n",
    "# Counting nmr of partitions in the Swedish file\n",
    "num_partitions_sv = lines_sv.getNumPartitions()\n",
    "print(f\"Number of partitions in Swedish file: {num_partitions_sv}\")"
   ]
  },
  {
   "cell_type": "code",
   "execution_count": 4,
   "id": "fa87b66a-46a1-49eb-9f87-4666a12f237e",
   "metadata": {},
   "outputs": [],
   "source": [
    "def preprocess_text(line):\n",
    "    return line.lower().split(' ')"
   ]
  },
  {
   "cell_type": "code",
   "execution_count": 5,
   "id": "a2a51f26-9c3c-466c-a409-a5b5bb5abb0d",
   "metadata": {},
   "outputs": [],
   "source": [
    "processed_lines_en = lines_en.map(preprocess_text)\n",
    "processed_lines_sv = lines_sv.map(preprocess_text)"
   ]
  },
  {
   "cell_type": "code",
   "execution_count": 6,
   "id": "8cee82ee-1bbb-4521-b47e-c3c4982f9b80",
   "metadata": {
    "scrolled": true
   },
   "outputs": [
    {
     "name": "stderr",
     "output_type": "stream",
     "text": [
      "[Stage 3:===================>                                       (1 + 2) / 3]\r"
     ]
    },
    {
     "name": "stdout",
     "output_type": "stream",
     "text": [
      "Processed line count in English: 1862234\n",
      "Processed line count in Swedish: 1862234\n"
     ]
    },
    {
     "name": "stderr",
     "output_type": "stream",
     "text": [
      "                                                                                \r"
     ]
    }
   ],
   "source": [
    "# Verify that the line counts still match after the pre-processing:\n",
    "\n",
    "processed_count_en = processed_lines_en.count()\n",
    "processed_count_sv = processed_lines_sv.count()\n",
    "print(f\"Processed line count in English: {processed_count_en}\")\n",
    "print(f\"Processed line count in Swedish: {processed_count_sv}\")"
   ]
  },
  {
   "cell_type": "code",
   "execution_count": 82,
   "id": "35e03978-73f7-4c4e-916b-27748e5eab4e",
   "metadata": {},
   "outputs": [],
   "source": [
    "# The line count still match after pre-processing"
   ]
  },
  {
   "cell_type": "code",
   "execution_count": 7,
   "id": "8790a495-45aa-4bee-9422-a09f1de9a51c",
   "metadata": {
    "scrolled": true
   },
   "outputs": [
    {
     "name": "stderr",
     "output_type": "stream",
     "text": [
      "[Stage 6:=======================================>                   (2 + 1) / 3]\r"
     ]
    },
    {
     "name": "stdout",
     "output_type": "stream",
     "text": [
      "\n",
      "Top 10 words in English:\n",
      "the: 3498375\n",
      "of: 1659758\n",
      "to: 1539760\n",
      "and: 1288401\n",
      "in: 1085993\n",
      "that: 797516\n",
      "a: 773522\n",
      "is: 758050\n",
      "for: 534242\n",
      "we: 522849\n",
      "\n",
      "Top 10 words in Swedish:\n",
      "att: 1706293\n",
      "och: 1344830\n",
      "i: 1050774\n",
      "det: 924866\n",
      "som: 913276\n",
      "för: 908680\n",
      "av: 738068\n",
      "är: 694381\n",
      "en: 620310\n",
      "vi: 539797\n"
     ]
    },
    {
     "name": "stderr",
     "output_type": "stream",
     "text": [
      "                                                                                \r"
     ]
    }
   ],
   "source": [
    "# Check 10 most frequent words in English and Swedish\n",
    "\n",
    "words_en = processed_lines_en.flatMap(lambda line: line)\n",
    "words_sv = processed_lines_sv.flatMap(lambda line: line)\n",
    "\n",
    "word_counts_en = words_en.map(lambda word: (word, 1)).reduceByKey(add)\n",
    "word_counts_sv = words_sv.map(lambda word: (word, 1)).reduceByKey(add)\n",
    "\n",
    "top_10_words_en = word_counts_en.takeOrdered(10, key=lambda x: -x[1])\n",
    "top_10_words_sv = word_counts_sv.takeOrdered(10, key=lambda x: -x[1])\n",
    "\n",
    "print(\"\\nTop 10 words in English:\")\n",
    "for word, count in top_10_words_en:\n",
    "    print(f'{word}: {count}')\n",
    "    \n",
    "print(\"\\nTop 10 words in Swedish:\")\n",
    "for word, count in top_10_words_sv:\n",
    "    print(f'{word}: {count}')"
   ]
  },
  {
   "cell_type": "code",
   "execution_count": 84,
   "id": "9b84eae1-31fb-4c21-9258-1c814012defb",
   "metadata": {},
   "outputs": [],
   "source": [
    "# The results are reasonable, as the most frequent words are common words used to build up sentences (konjunctions, prepositions etc)\n",
    "# In the Swedish translation for example, the words also match most of the top 10 most frequent words in the Swedish language like i, och, att, det, som, en, är, av, för "
   ]
  },
  {
   "cell_type": "code",
   "execution_count": 8,
   "id": "435ab700-0ceb-4bc7-accf-e58f56667379",
   "metadata": {
    "scrolled": true
   },
   "outputs": [
    {
     "name": "stderr",
     "output_type": "stream",
     "text": [
      "                                                                                \r"
     ]
    }
   ],
   "source": [
    "# Question A4\n",
    "\n",
    "# Assign a unique index to each line in both RDDs and swap so that the line number is the key\n",
    "sv_swapped = processed_lines_sv.zipWithIndex().map(lambda x: (x[1], x[0]))\n",
    "en_swapped = processed_lines_en.zipWithIndex().map(lambda x: (x[1], x[0]))"
   ]
  },
  {
   "cell_type": "code",
   "execution_count": 9,
   "id": "b4a3fa84-d2e9-4e52-8013-08ddf55670ee",
   "metadata": {
    "scrolled": true
   },
   "outputs": [
    {
     "data": {
      "text/plain": [
       "[(0, ['återupptagande', 'av', 'sessionen']),\n",
       " (1,\n",
       "  ['jag',\n",
       "   'förklarar',\n",
       "   'europaparlamentets',\n",
       "   'session',\n",
       "   'återupptagen',\n",
       "   'efter',\n",
       "   'avbrottet',\n",
       "   'den',\n",
       "   '17',\n",
       "   'december.',\n",
       "   'jag',\n",
       "   'vill',\n",
       "   'på',\n",
       "   'nytt',\n",
       "   'önska',\n",
       "   'er',\n",
       "   'ett',\n",
       "   'gott',\n",
       "   'nytt',\n",
       "   'år',\n",
       "   'och',\n",
       "   'jag',\n",
       "   'hoppas',\n",
       "   'att',\n",
       "   'ni',\n",
       "   'haft',\n",
       "   'en',\n",
       "   'trevlig',\n",
       "   'semester.']),\n",
       " (2,\n",
       "  ['som',\n",
       "   'ni',\n",
       "   'kunnat',\n",
       "   'konstatera',\n",
       "   'ägde',\n",
       "   '\"den',\n",
       "   'stora',\n",
       "   'år',\n",
       "   '2000-buggen\"',\n",
       "   'aldrig',\n",
       "   'rum.',\n",
       "   'däremot',\n",
       "   'har',\n",
       "   'invånarna',\n",
       "   'i',\n",
       "   'ett',\n",
       "   'antal',\n",
       "   'av',\n",
       "   'våra',\n",
       "   'medlemsländer',\n",
       "   'drabbats',\n",
       "   'av',\n",
       "   'naturkatastrofer',\n",
       "   'som',\n",
       "   'verkligen',\n",
       "   'varit',\n",
       "   'förskräckliga.']),\n",
       " (3,\n",
       "  ['ni',\n",
       "   'har',\n",
       "   'begärt',\n",
       "   'en',\n",
       "   'debatt',\n",
       "   'i',\n",
       "   'ämnet',\n",
       "   'under',\n",
       "   'sammanträdesperiodens',\n",
       "   'kommande',\n",
       "   'dagar.']),\n",
       " (4,\n",
       "  ['till',\n",
       "   'dess',\n",
       "   'vill',\n",
       "   'jag',\n",
       "   'att',\n",
       "   'vi,',\n",
       "   'som',\n",
       "   'ett',\n",
       "   'antal',\n",
       "   'kolleger',\n",
       "   'begärt,',\n",
       "   'håller',\n",
       "   'en',\n",
       "   'tyst',\n",
       "   'minut',\n",
       "   'för',\n",
       "   'offren',\n",
       "   'för',\n",
       "   'bl.a.',\n",
       "   'stormarna',\n",
       "   'i',\n",
       "   'de',\n",
       "   'länder',\n",
       "   'i',\n",
       "   'europeiska',\n",
       "   'unionen',\n",
       "   'som',\n",
       "   'drabbats.']),\n",
       " (5, ['jag', 'ber', 'er', 'resa', 'er', 'för', 'en', 'tyst', 'minut.']),\n",
       " (6, ['(parlamentet', 'höll', 'en', 'tyst', 'minut.)']),\n",
       " (7, ['fru', 'talman!', 'det', 'gäller', 'en', 'ordningsfråga.']),\n",
       " (8,\n",
       "  ['ni',\n",
       "   'känner',\n",
       "   'till',\n",
       "   'från',\n",
       "   'media',\n",
       "   'att',\n",
       "   'det',\n",
       "   'skett',\n",
       "   'en',\n",
       "   'rad',\n",
       "   'bombexplosioner',\n",
       "   'och',\n",
       "   'mord',\n",
       "   'i',\n",
       "   'sri',\n",
       "   'lanka.']),\n",
       " (9,\n",
       "  ['en',\n",
       "   'av',\n",
       "   'de',\n",
       "   'personer',\n",
       "   'som',\n",
       "   'mycket',\n",
       "   'nyligen',\n",
       "   'mördades',\n",
       "   'i',\n",
       "   'sri',\n",
       "   'lanka',\n",
       "   'var',\n",
       "   'kumar',\n",
       "   'ponnambalam,',\n",
       "   'som',\n",
       "   'besökte',\n",
       "   'europaparlamentet',\n",
       "   'för',\n",
       "   'bara',\n",
       "   'några',\n",
       "   'månader',\n",
       "   'sedan.'])]"
      ]
     },
     "execution_count": 9,
     "metadata": {},
     "output_type": "execute_result"
    }
   ],
   "source": [
    "# See how it looks, so everything was done correctly\n",
    "sv_swapped.take(10)"
   ]
  },
  {
   "cell_type": "code",
   "execution_count": 10,
   "id": "2df64d79-ba28-46ec-9d10-8234fb07b93c",
   "metadata": {
    "scrolled": true
   },
   "outputs": [
    {
     "data": {
      "text/plain": [
       "[(0, ['resumption', 'of', 'the', 'session']),\n",
       " (1,\n",
       "  ['i',\n",
       "   'declare',\n",
       "   'resumed',\n",
       "   'the',\n",
       "   'session',\n",
       "   'of',\n",
       "   'the',\n",
       "   'european',\n",
       "   'parliament',\n",
       "   'adjourned',\n",
       "   'on',\n",
       "   'friday',\n",
       "   '17',\n",
       "   'december',\n",
       "   '1999,',\n",
       "   'and',\n",
       "   'i',\n",
       "   'would',\n",
       "   'like',\n",
       "   'once',\n",
       "   'again',\n",
       "   'to',\n",
       "   'wish',\n",
       "   'you',\n",
       "   'a',\n",
       "   'happy',\n",
       "   'new',\n",
       "   'year',\n",
       "   'in',\n",
       "   'the',\n",
       "   'hope',\n",
       "   'that',\n",
       "   'you',\n",
       "   'enjoyed',\n",
       "   'a',\n",
       "   'pleasant',\n",
       "   'festive',\n",
       "   'period.']),\n",
       " (2,\n",
       "  ['although,',\n",
       "   'as',\n",
       "   'you',\n",
       "   'will',\n",
       "   'have',\n",
       "   'seen,',\n",
       "   'the',\n",
       "   'dreaded',\n",
       "   \"'millennium\",\n",
       "   \"bug'\",\n",
       "   'failed',\n",
       "   'to',\n",
       "   'materialise,',\n",
       "   'still',\n",
       "   'the',\n",
       "   'people',\n",
       "   'in',\n",
       "   'a',\n",
       "   'number',\n",
       "   'of',\n",
       "   'countries',\n",
       "   'suffered',\n",
       "   'a',\n",
       "   'series',\n",
       "   'of',\n",
       "   'natural',\n",
       "   'disasters',\n",
       "   'that',\n",
       "   'truly',\n",
       "   'were',\n",
       "   'dreadful.']),\n",
       " (3,\n",
       "  ['you',\n",
       "   'have',\n",
       "   'requested',\n",
       "   'a',\n",
       "   'debate',\n",
       "   'on',\n",
       "   'this',\n",
       "   'subject',\n",
       "   'in',\n",
       "   'the',\n",
       "   'course',\n",
       "   'of',\n",
       "   'the',\n",
       "   'next',\n",
       "   'few',\n",
       "   'days,',\n",
       "   'during',\n",
       "   'this',\n",
       "   'part-session.']),\n",
       " (4,\n",
       "  ['in',\n",
       "   'the',\n",
       "   'meantime,',\n",
       "   'i',\n",
       "   'should',\n",
       "   'like',\n",
       "   'to',\n",
       "   'observe',\n",
       "   'a',\n",
       "   \"minute'\",\n",
       "   's',\n",
       "   'silence,',\n",
       "   'as',\n",
       "   'a',\n",
       "   'number',\n",
       "   'of',\n",
       "   'members',\n",
       "   'have',\n",
       "   'requested,',\n",
       "   'on',\n",
       "   'behalf',\n",
       "   'of',\n",
       "   'all',\n",
       "   'the',\n",
       "   'victims',\n",
       "   'concerned,',\n",
       "   'particularly',\n",
       "   'those',\n",
       "   'of',\n",
       "   'the',\n",
       "   'terrible',\n",
       "   'storms,',\n",
       "   'in',\n",
       "   'the',\n",
       "   'various',\n",
       "   'countries',\n",
       "   'of',\n",
       "   'the',\n",
       "   'european',\n",
       "   'union.']),\n",
       " (5, ['please', 'rise,', 'then,', 'for', 'this', \"minute'\", 's', 'silence.']),\n",
       " (6,\n",
       "  ['(the',\n",
       "   'house',\n",
       "   'rose',\n",
       "   'and',\n",
       "   'observed',\n",
       "   'a',\n",
       "   \"minute'\",\n",
       "   's',\n",
       "   'silence)']),\n",
       " (7, ['madam', 'president,', 'on', 'a', 'point', 'of', 'order.']),\n",
       " (8,\n",
       "  ['you',\n",
       "   'will',\n",
       "   'be',\n",
       "   'aware',\n",
       "   'from',\n",
       "   'the',\n",
       "   'press',\n",
       "   'and',\n",
       "   'television',\n",
       "   'that',\n",
       "   'there',\n",
       "   'have',\n",
       "   'been',\n",
       "   'a',\n",
       "   'number',\n",
       "   'of',\n",
       "   'bomb',\n",
       "   'explosions',\n",
       "   'and',\n",
       "   'killings',\n",
       "   'in',\n",
       "   'sri',\n",
       "   'lanka.']),\n",
       " (9,\n",
       "  ['one',\n",
       "   'of',\n",
       "   'the',\n",
       "   'people',\n",
       "   'assassinated',\n",
       "   'very',\n",
       "   'recently',\n",
       "   'in',\n",
       "   'sri',\n",
       "   'lanka',\n",
       "   'was',\n",
       "   'mr',\n",
       "   'kumar',\n",
       "   'ponnambalam,',\n",
       "   'who',\n",
       "   'had',\n",
       "   'visited',\n",
       "   'the',\n",
       "   'european',\n",
       "   'parliament',\n",
       "   'just',\n",
       "   'a',\n",
       "   'few',\n",
       "   'months',\n",
       "   'ago.'])]"
      ]
     },
     "execution_count": 10,
     "metadata": {},
     "output_type": "execute_result"
    }
   ],
   "source": [
    "# See how it looks, so everything was done correctly\n",
    "en_swapped.take(10)"
   ]
  },
  {
   "cell_type": "code",
   "execution_count": 11,
   "id": "eba067bb-52db-4d8a-995f-008db52af32f",
   "metadata": {},
   "outputs": [],
   "source": [
    "# Join the two RDDs together on the line number key\n",
    "sv_en_joined_rdd = sv_swapped.join(en_swapped)"
   ]
  },
  {
   "cell_type": "code",
   "execution_count": 12,
   "id": "15c67527-577e-436b-9c6d-c1d83cd0469f",
   "metadata": {
    "scrolled": true
   },
   "outputs": [
    {
     "name": "stderr",
     "output_type": "stream",
     "text": [
      "                                                                                \r"
     ]
    },
    {
     "data": {
      "text/plain": [
       "[(869580,\n",
       "  (['europeiska',\n",
       "    'unionen',\n",
       "    'måste',\n",
       "    'organisera',\n",
       "    'återsändandet',\n",
       "    'av',\n",
       "    'illegala',\n",
       "    'invandrare',\n",
       "    'på',\n",
       "    'ett',\n",
       "    'sätt',\n",
       "    'som',\n",
       "    'upprätthåller',\n",
       "    'strängaste',\n",
       "    'respekt',\n",
       "    'för',\n",
       "    'mänskliga',\n",
       "    'rättigheter',\n",
       "    'och',\n",
       "    'mänsklig',\n",
       "    'värdighet.'],\n",
       "   ['the',\n",
       "    'european',\n",
       "    'union',\n",
       "    'must',\n",
       "    'organise',\n",
       "    'the',\n",
       "    'return',\n",
       "    'of',\n",
       "    'illegal',\n",
       "    'immigrants',\n",
       "    'in',\n",
       "    'a',\n",
       "    'way',\n",
       "    'that',\n",
       "    'maintains',\n",
       "    'the',\n",
       "    'strictest',\n",
       "    'respect',\n",
       "    'for',\n",
       "    'human',\n",
       "    'rights',\n",
       "    'and',\n",
       "    'human',\n",
       "    'dignity.'])),\n",
       " (870940,\n",
       "  (['vår',\n",
       "    'framtid',\n",
       "    'är',\n",
       "    'beroende',\n",
       "    'av',\n",
       "    'vår',\n",
       "    'förmåga',\n",
       "    'att',\n",
       "    'bekämpa',\n",
       "    'terrorismen.'],\n",
       "   ['our',\n",
       "    'future',\n",
       "    'depends',\n",
       "    'on',\n",
       "    'our',\n",
       "    'ability',\n",
       "    'to',\n",
       "    'defeat',\n",
       "    'terrorism.'])),\n",
       " (883860,\n",
       "  (['i',\n",
       "    'och',\n",
       "    'med',\n",
       "    'dagens',\n",
       "    'debatt',\n",
       "    'och',\n",
       "    'er',\n",
       "    'kommande',\n",
       "    'resolution',\n",
       "    'förmedlar',\n",
       "    'denna',\n",
       "    'kammare',\n",
       "    'några',\n",
       "    'mycket',\n",
       "    'tydliga',\n",
       "    'budskap',\n",
       "    'till',\n",
       "    'turkiet.'],\n",
       "   ['with',\n",
       "    \"today's\",\n",
       "    'debate',\n",
       "    'and',\n",
       "    'your',\n",
       "    'subsequent',\n",
       "    'resolution,',\n",
       "    'this',\n",
       "    'house',\n",
       "    'sends',\n",
       "    'some',\n",
       "    'very',\n",
       "    'clear',\n",
       "    'messages',\n",
       "    'to',\n",
       "    'turkey.'])),\n",
       " (885525,\n",
       "  (['jag',\n",
       "    'vill',\n",
       "    'också',\n",
       "    'berömma',\n",
       "    'det',\n",
       "    'mycket',\n",
       "    'positiva',\n",
       "    'arbete',\n",
       "    'som',\n",
       "    'vidtagits',\n",
       "    'av',\n",
       "    'vojvodinas',\n",
       "    'regionala',\n",
       "    'parlament',\n",
       "    'när',\n",
       "    'det',\n",
       "    'gäller',\n",
       "    'tolerans',\n",
       "    'och',\n",
       "    'ungdomssamarbete,',\n",
       "    'vilket',\n",
       "    'har',\n",
       "    'haft',\n",
       "    'stor',\n",
       "    'inverkan.'],\n",
       "   ['i',\n",
       "    'would',\n",
       "    'also',\n",
       "    'like',\n",
       "    'to',\n",
       "    'pay',\n",
       "    'tribute',\n",
       "    'to',\n",
       "    'the',\n",
       "    'very',\n",
       "    'positive',\n",
       "    'work',\n",
       "    'being',\n",
       "    'undertaken',\n",
       "    'by',\n",
       "    'the',\n",
       "    'vojvodina',\n",
       "    'regional',\n",
       "    'parliament',\n",
       "    'in',\n",
       "    'relation',\n",
       "    'to',\n",
       "    'tolerance',\n",
       "    'and',\n",
       "    'youth',\n",
       "    'cooperation,',\n",
       "    'which',\n",
       "    'is',\n",
       "    'having',\n",
       "    'a',\n",
       "    'major',\n",
       "    'impact.'])),\n",
       " (894390,\n",
       "  (['i',\n",
       "    'detta',\n",
       "    'sammanhang',\n",
       "    'välkomnar',\n",
       "    'jag',\n",
       "    'parlamentets',\n",
       "    'uppmaning',\n",
       "    'till',\n",
       "    'rådet',\n",
       "    'att',\n",
       "    'stödja',\n",
       "    'förslaget',\n",
       "    'om',\n",
       "    'solidaritetsfonden.'],\n",
       "   ['in',\n",
       "    'this',\n",
       "    'context,',\n",
       "    'i',\n",
       "    'welcome',\n",
       "    \"parliament's\",\n",
       "    'call',\n",
       "    'for',\n",
       "    'the',\n",
       "    'council',\n",
       "    'to',\n",
       "    'promote',\n",
       "    'the',\n",
       "    'proposal',\n",
       "    'on',\n",
       "    'the',\n",
       "    'solidarity',\n",
       "    'fund.'])),\n",
       " (895750,\n",
       "  (['eu',\n",
       "    'uppmanas',\n",
       "    'att',\n",
       "    'spela',\n",
       "    'en',\n",
       "    'ledande',\n",
       "    'och',\n",
       "    'konstruktiv',\n",
       "    'roll',\n",
       "    'i',\n",
       "    'samband',\n",
       "    'med',\n",
       "    'ett',\n",
       "    'ökat',\n",
       "    'internationellt',\n",
       "    'samarbete.'],\n",
       "   ['the',\n",
       "    'union',\n",
       "    'is',\n",
       "    'called',\n",
       "    'upon',\n",
       "    'to',\n",
       "    'play',\n",
       "    'a',\n",
       "    'leading',\n",
       "    'and',\n",
       "    'constructive',\n",
       "    'role',\n",
       "    'at',\n",
       "    'an',\n",
       "    'increased',\n",
       "    'level',\n",
       "    'of',\n",
       "    'international',\n",
       "    'cooperation.'])),\n",
       " (902845,\n",
       "  (['alain',\n",
       "    'lipietz',\n",
       "    'betänkande',\n",
       "    'är',\n",
       "    'en',\n",
       "    'värdefull',\n",
       "    'källa',\n",
       "    'till',\n",
       "    'politiska',\n",
       "    'idéer',\n",
       "    'och',\n",
       "    'förslag.'],\n",
       "   ['the',\n",
       "    'report',\n",
       "    'by',\n",
       "    'alain',\n",
       "    'lipietz',\n",
       "    'is',\n",
       "    'a',\n",
       "    'useful',\n",
       "    'source',\n",
       "    'of',\n",
       "    'policy',\n",
       "    'ideas',\n",
       "    'and',\n",
       "    'proposals.'])),\n",
       " (908025,\n",
       "  (['i',\n",
       "    'år',\n",
       "    'har',\n",
       "    'två',\n",
       "    'nya',\n",
       "    'avsnitt',\n",
       "    'lagts',\n",
       "    'till:',\n",
       "    'det',\n",
       "    'ena',\n",
       "    'om',\n",
       "    'grannskapspolitiken',\n",
       "    'och',\n",
       "    'det',\n",
       "    'andra',\n",
       "    'om',\n",
       "    'religions-',\n",
       "    'och',\n",
       "    'trosfrihet.'],\n",
       "   ['this',\n",
       "    'year',\n",
       "    'two',\n",
       "    'new',\n",
       "    'sections',\n",
       "    'have',\n",
       "    'been',\n",
       "    'added:',\n",
       "    'one',\n",
       "    'on',\n",
       "    'the',\n",
       "    'neighbourhood',\n",
       "    'policy',\n",
       "    'and',\n",
       "    'the',\n",
       "    'other',\n",
       "    'on',\n",
       "    'freedom',\n",
       "    'of',\n",
       "    'religion',\n",
       "    'and',\n",
       "    'belief.'])),\n",
       " (908670,\n",
       "  (['jag',\n",
       "    'ändrar',\n",
       "    'regelbundet',\n",
       "    'åsikt',\n",
       "    'på',\n",
       "    'grund',\n",
       "    'av',\n",
       "    'er,',\n",
       "    'inte',\n",
       "    'för',\n",
       "    'att',\n",
       "    'göra',\n",
       "    'er',\n",
       "    'glada,',\n",
       "    'utan',\n",
       "    'helt',\n",
       "    'enkelt',\n",
       "    'för',\n",
       "    'att',\n",
       "    'ni',\n",
       "    'övertygar',\n",
       "    'mig.'],\n",
       "   ['i',\n",
       "    'regularly',\n",
       "    'change',\n",
       "    'my',\n",
       "    'opinions',\n",
       "    'because',\n",
       "    'of',\n",
       "    'you,',\n",
       "    'not',\n",
       "    'to',\n",
       "    'keep',\n",
       "    'you',\n",
       "    'happy,',\n",
       "    'but',\n",
       "    'simply',\n",
       "    'because',\n",
       "    'you',\n",
       "    'persuade',\n",
       "    'me.'])),\n",
       " (909795,\n",
       "  (['detta',\n",
       "    'dokument',\n",
       "    'är',\n",
       "    'också',\n",
       "    'oerhört',\n",
       "    'viktigt',\n",
       "    'eftersom',\n",
       "    'vi',\n",
       "    'under',\n",
       "    'denna',\n",
       "    'period',\n",
       "    'även',\n",
       "    'diskuterar',\n",
       "    'reformen',\n",
       "    'av',\n",
       "    'den',\n",
       "    'gemensamma',\n",
       "    'jordbrukspolitiken,',\n",
       "    'och',\n",
       "    'i',\n",
       "    'det',\n",
       "    'sammanhanget',\n",
       "    'bör',\n",
       "    'gemenskapens',\n",
       "    'mekanismer',\n",
       "    'för',\n",
       "    'att',\n",
       "    'främja',\n",
       "    'jordbruksprodukter',\n",
       "    'spela',\n",
       "    'en',\n",
       "    'viktig',\n",
       "    'roll.'],\n",
       "   ['this',\n",
       "    'document',\n",
       "    'is',\n",
       "    'also',\n",
       "    'extremely',\n",
       "    'important',\n",
       "    'because,',\n",
       "    'during',\n",
       "    'this',\n",
       "    'period,',\n",
       "    'we',\n",
       "    'discuss',\n",
       "    'the',\n",
       "    'reform',\n",
       "    'of',\n",
       "    'the',\n",
       "    'common',\n",
       "    'agricultural',\n",
       "    'policy',\n",
       "    'as',\n",
       "    'well',\n",
       "    'and,',\n",
       "    'in',\n",
       "    'this',\n",
       "    'context,',\n",
       "    'the',\n",
       "    'community',\n",
       "    'mechanisms',\n",
       "    'for',\n",
       "    'promoting',\n",
       "    'agricultural',\n",
       "    'products',\n",
       "    'should',\n",
       "    'play',\n",
       "    'an',\n",
       "    'important',\n",
       "    'role.']))]"
      ]
     },
     "execution_count": 12,
     "metadata": {},
     "output_type": "execute_result"
    }
   ],
   "source": [
    "# See how it looks\n",
    "sv_en_joined_rdd.take(10) "
   ]
  },
  {
   "cell_type": "code",
   "execution_count": 13,
   "id": "eca87084-218f-4a1c-b235-6b06ab2f8b5c",
   "metadata": {},
   "outputs": [],
   "source": [
    "# Filter function for the joined RDD according to lab requirements\n",
    "def filter(lines):\n",
    "    #Filter to exclude empty/missing lines\n",
    "    filtered_rdd = lines.filter(lambda x: len(x[1][0]) > 1 and len(x[1][1]) > 1)\n",
    "\n",
    "    #Filter sentences with a small number (the threshold) of words\n",
    "    threshold = 5\n",
    "    filtered_rdd = filtered_rdd.filter(lambda x: len(x[1][0]) < threshold and len(x[1][1]) < threshold)\n",
    "\n",
    "    # Filter pairs with the same number of words\n",
    "    filtered_rdd = filtered_rdd.filter(lambda x: len(x[1][0]) == len(x[1][1]))\n",
    "    return filtered_rdd"
   ]
  },
  {
   "cell_type": "code",
   "execution_count": 14,
   "id": "f17b8cd1-ea42-43bd-bb8e-29cd22d5e661",
   "metadata": {},
   "outputs": [],
   "source": [
    "# Call on the filter function to filter the joined RDD\n",
    "filtered_rdd = filter(sv_en_joined_rdd)"
   ]
  },
  {
   "cell_type": "code",
   "execution_count": 15,
   "id": "953d4d5a-0b86-4534-bf0c-8d272fe09315",
   "metadata": {
    "scrolled": true
   },
   "outputs": [
    {
     "name": "stderr",
     "output_type": "stream",
     "text": [
      "                                                                                \r"
     ]
    },
    {
     "data": {
      "text/plain": [
       "[(142910,\n",
       "  (['jag', 'förklarar', 'debatten', 'avslutad.'],\n",
       "   ['the', 'debate', 'is', 'closed.'])),\n",
       " (37045,\n",
       "  (['de', 'har', 'ansvaret', 'tillsammans.'],\n",
       "   ['they', 'are', 'jointly', 'responsible.'])),\n",
       " (129940,\n",
       "  (['jag', 'förklarar', 'debatten', 'avslutad.'],\n",
       "   ['that', 'concludes', 'the', 'debate.'])),\n",
       " (225205, (['krisen', 'på', 'balkan.'], ['the', 'balkan', 'crisis.'])),\n",
       " (369620, (['tack,', 'herr', 'minister.'], ['thank', 'you,', 'minister.'])),\n",
       " (651850,\n",
       "  (['men', 'europa', 'har', 'svarat.'],\n",
       "   ['but', 'europe', 'has', 'responded.'])),\n",
       " (684985,\n",
       "  (['det', 'är', 'deras', 'bidrag.'],\n",
       "   ['that', 'is', 'their', 'contribution.'])),\n",
       " (708435,\n",
       "  (['den', 'är', 'onödigt', 'komplicerad.'],\n",
       "   ['it', 'is', 'unnecessarily', 'complicated.'])),\n",
       " (708975,\n",
       "  (['varför', 'hålla', 'det', 'hemligt?'], ['why', 'keep', 'it', 'secret?'])),\n",
       " (749190, (['\\xa0\\xa0', '.'], ['\\xa0\\xa0', '.']))]"
      ]
     },
     "execution_count": 15,
     "metadata": {},
     "output_type": "execute_result"
    }
   ],
   "source": [
    "# See how it looks, if it was filtered properly\n",
    "filtered_rdd.take(10)"
   ]
  },
  {
   "cell_type": "code",
   "execution_count": 16,
   "id": "e41d2309-e687-4477-8ed7-e9328711a6c8",
   "metadata": {},
   "outputs": [],
   "source": [
    "# Pair words in the order they appear in each sentence pair\n",
    "word_pairs_rdd = filtered_rdd.map(lambda x: zip(x[1][0], x[1][1]))"
   ]
  },
  {
   "cell_type": "code",
   "execution_count": 17,
   "id": "b1d1c9da-1dea-42b5-8d99-995acf61e5d5",
   "metadata": {
    "scrolled": true
   },
   "outputs": [
    {
     "name": "stderr",
     "output_type": "stream",
     "text": [
      "[Stage 17:>                                                         (0 + 1) / 1]\r"
     ]
    },
    {
     "name": "stdout",
     "output_type": "stream",
     "text": [
      "[('nej,', 'no,'), ('nej!)', 'no!)')]\n"
     ]
    },
    {
     "name": "stderr",
     "output_type": "stream",
     "text": [
      "                                                                                \r"
     ]
    }
   ],
   "source": [
    "# See how it looks\n",
    "print(list(word_pairs_rdd.take(1)[0])) "
   ]
  },
  {
   "cell_type": "code",
   "execution_count": 18,
   "id": "9334c2e7-b8e5-49dd-a7fb-bb26b06c4241",
   "metadata": {
    "scrolled": true
   },
   "outputs": [
    {
     "name": "stderr",
     "output_type": "stream",
     "text": [
      "[Stage 19:==============================================>           (4 + 1) / 5]\r"
     ]
    },
    {
     "name": "stdout",
     "output_type": "stream",
     "text": [
      "avslutad. - closed.: 2534\n",
      "är - is: 2380\n",
      "jag - the: 1324\n",
      "debatten - is: 1324\n",
      "förklarar - debate: 1317\n",
      "debatten - the: 1225\n",
      "härmed - is: 1215\n",
      "är - debate: 1187\n",
      "(artikel - (rule: 893\n",
      "det - that: 852\n"
     ]
    },
    {
     "name": "stderr",
     "output_type": "stream",
     "text": [
      "                                                                                \r"
     ]
    }
   ],
   "source": [
    "# Count the frequency of each word-translation pair\n",
    "words_rdd = word_pairs_rdd.flatMap(lambda line: line)\n",
    "word_counts_rdd = words_rdd.map(lambda word: (word, 1))\n",
    "word_freq_rdd = word_counts_rdd.reduceByKey(lambda a, b: a + b)\n",
    "\n",
    "# Print 10 of the most frequently occurring pairs of words\n",
    "top_pairs = word_freq_rdd.takeOrdered(10, key=lambda x: -x[1])\n",
    "for (word, translation), count in top_pairs:\n",
    "    print(f'{word} - {translation}: {count}')\n"
   ]
  },
  {
   "cell_type": "code",
   "execution_count": null,
   "id": "c9e3d9b4-3e94-4b41-ab61-cc9830251fef",
   "metadata": {},
   "outputs": [],
   "source": [
    "# The translations are not parfect, and the word pairs doesnt match in translation. However, the first two makes sens, and the last two. \n",
    "# The other ones are not translations of each other, but it looks like one of the most frequent short sentences perhaps could be \n",
    "# \"härmed förklarar jag debatten avslutad\", which is a completely different word structure on english - why the word pairs are a bit \"scrambled\"\n",
    "# That is my conclusion at least."
   ]
  },
  {
   "cell_type": "code",
   "execution_count": 30,
   "id": "6cf355f7-62f9-4e52-a53e-b8d1caea1bbd",
   "metadata": {
    "scrolled": true
   },
   "outputs": [
    {
     "name": "stderr",
     "output_type": "stream",
     "text": [
      "                                                                                \r"
     ]
    },
    {
     "name": "stdout",
     "output_type": "stream",
     "text": [
      "+-------------+-------------------+----------+--------+-----------+--------------+-----------------+----+----+----------+-----+--------------------+-----+------+--------------+---------------------+-----------+---------+---------+------------------+-----------------+----------------------+\n",
      "|Ticket number|         Issue Date|Issue time|Meter Id|Marked Time|RP State Plate|Plate Expiry Date| VIN|Make|Body Style|Color|            Location|Route|Agency|Violation code|Violation Description|Fine amount| Latitude|Longitude|Agency Description|Color Description|Body Style Description|\n",
      "+-------------+-------------------+----------+--------+-----------+--------------+-----------------+----+----+----------+-----+--------------------+-----+------+--------------+---------------------+-----------+---------+---------+------------------+-----------------+----------------------+\n",
      "|   1103341116|2015-12-21 00:00:00|    1251.0|    NULL|       NULL|            CA|         200304.0|NULL|HOND|        PA|   GY|     13147 WELBY WAY|01521|   1.0|        4000A1|   NO EVIDENCE OF REG|       50.0|  99999.0|  99999.0|              NULL|             NULL|                  NULL|\n",
      "|   1103700150|2015-12-21 00:00:00|    1435.0|    NULL|       NULL|            CA|         201512.0|NULL| GMC|        VN|   WH|       525 S MAIN ST| 1C51|   1.0|        4000A1|   NO EVIDENCE OF REG|       50.0|  99999.0|  99999.0|              NULL|             NULL|                  NULL|\n",
      "|   1104803000|2015-12-21 00:00:00|    2055.0|    NULL|       NULL|            CA|         201503.0|NULL|NISS|        PA|   BK|       200 WORLD WAY|  2R2|   2.0|          8939|           WHITE CURB|       58.0|6439997.9|1802686.4|              NULL|             NULL|                  NULL|\n",
      "|   1104820732|2015-12-26 00:00:00|    1515.0|    NULL|       NULL|            CA|             NULL|NULL|ACUR|        PA|   WH|       100 WORLD WAY| 2F11|   2.0|           000|               17104h|       NULL|6440041.1|1802686.2|              NULL|             NULL|                  NULL|\n",
      "|   1105461453|2015-09-15 00:00:00|     115.0|    NULL|       NULL|            CA|         200316.0|NULL|CHEV|        PA|   BK|  GEORGIA ST/OLYMPIC|1FB70|   1.0|         8069A| NO STOPPING/STANDING|       93.0|  99999.0|  99999.0|              NULL|             NULL|                  NULL|\n",
      "|   1106226590|2015-09-15 00:00:00|      19.0|    NULL|       NULL|            CA|         201507.0|NULL|CHEV|        VN|   GY|  SAN PEDRO S/O BOYD|1A35W|   1.0|        4000A1|   NO EVIDENCE OF REG|       50.0|  99999.0|  99999.0|              NULL|             NULL|                  NULL|\n",
      "|   1106500452|2015-12-17 00:00:00|    1710.0|    NULL|       NULL|            CA|         201605.0|NULL|MAZD|        PA|   BL|     SUNSET/ALVARADO|00217|   1.0|          8070| PARK IN GRID LOCK ZN|      163.0|  99999.0|  99999.0|              NULL|             NULL|                  NULL|\n",
      "|   1106500463|2015-12-17 00:00:00|    1710.0|    NULL|       NULL|            CA|         201602.0|NULL|TOYO|        PA|   BK|     SUNSET/ALVARADO|00217|   1.0|          8070| PARK IN GRID LOCK ZN|      163.0|  99999.0|  99999.0|              NULL|             NULL|                  NULL|\n",
      "|   1106506402|2015-12-22 00:00:00|     945.0|    NULL|       NULL|            CA|         201605.0|NULL|CHEV|        PA|   BR|      721 S WESTLAKE| 2A75|   1.0|        8069AA|     NO STOP/STAND AM|       93.0|  99999.0|  99999.0|              NULL|             NULL|                  NULL|\n",
      "|   1106506413|2015-12-22 00:00:00|    1100.0|    NULL|       NULL|            CA|         201701.0|NULL|NISS|        PA|   SI|     1159 HUNTLEY DR| 2A75|   1.0|        8069AA|     NO STOP/STAND AM|       93.0|  99999.0|  99999.0|              NULL|             NULL|                  NULL|\n",
      "|   1106506424|2015-12-22 00:00:00|    1100.0|    NULL|       NULL|            CA|         201511.0|NULL|FORD|        TR|   WH|     1159 HUNTLEY DR| 2A75|   1.0|        8069AA|     NO STOP/STAND AM|       93.0|  99999.0|  99999.0|              NULL|             NULL|                  NULL|\n",
      "|   1106506435|2015-12-22 00:00:00|    1105.0|    NULL|       NULL|            CA|         201701.0|NULL|CHRY|        PA|   GO|     1159 HUNTLEY DR| 2A75|   1.0|        8069AA|     NO STOP/STAND AM|       93.0|  99999.0|  99999.0|              NULL|             NULL|                  NULL|\n",
      "|   1106506446|2015-12-22 00:00:00|    1110.0|    NULL|       NULL|            CA|         201511.0|NULL| BMW|        PA|   BK|      1200 W MIRAMAR| 2A75|   1.0|        4000A1|   NO EVIDENCE OF REG|       50.0|  99999.0|  99999.0|              NULL|             NULL|                  NULL|\n",
      "|   1106549754|2015-12-15 00:00:00|     825.0|    NULL|       NULL|            CA|         201607.0|NULL|PTRB|        TR|   BK|           4TH/STATE| CM96|   1.0|         8069A| NO STOPPING/STANDING|       93.0|  99999.0|  99999.0|              NULL|             NULL|                  NULL|\n",
      "|   1107179581|2015-12-27 00:00:00|    1055.0|    NULL|       NULL|            CA|         201605.0|NULL|TOYO|        PA|   BK|3100 N HOLLYRIDGE DR| NULL|  54.0|         8058L|         PREF PARKING|       68.0|  99999.0|  99999.0|              NULL|             NULL|                  NULL|\n",
      "|   1107179592|2015-12-27 00:00:00|    1200.0|    NULL|       NULL|            CA|         201602.0|NULL|MBNZ|        PA|   BK|   3115 N BERENDO DR| NULL|  54.0|         8058L|         PREF PARKING|       68.0|  99999.0|  99999.0|              NULL|             NULL|                  NULL|\n",
      "|   1107179603|2015-12-27 00:00:00|    1400.0|    NULL|       NULL|            CA|         201611.0|NULL|NISS|        PA|   WH| 3100 N BEACHWOOD DR| NULL|  54.0|         8058L|         PREF PARKING|       68.0|  99999.0|  99999.0|              NULL|             NULL|                  NULL|\n",
      "|   1107539823|2015-09-16 00:00:00|    2120.0|    NULL|       NULL|            CA|         201502.0|NULL|NISS|        PA| NULL|      BLAINE/11TH PL|1FB95|   1.0|        4000A1|   NO EVIDENCE OF REG|       50.0|  99999.0|  99999.0|              NULL|             NULL|                  NULL|\n",
      "|   1107539834|2015-09-16 00:00:00|    1045.0|    NULL|       NULL|            CA|             NULL|NULL|CHEV|        PA|   BK|  1246 S FIGUEROA ST| 1L20|   1.0|        8069AP|     NO STOP/STAND PM|       93.0|  99999.0|  99999.0|              NULL|             NULL|                  NULL|\n",
      "|   1107780811|2015-12-22 00:00:00|    1102.0|    NULL|       NULL|            CA|         201606.0|NULL|HOND|        PA|   BK|       PLATA/RAMPART|  2A1|   1.0|         8069B|           NO PARKING|       73.0|  99999.0|  99999.0|              NULL|             NULL|                  NULL|\n",
      "+-------------+-------------------+----------+--------+-----------+--------------+-----------------+----+----+----------+-----+--------------------+-----+------+--------------+---------------------+-----------+---------+---------+------------------+-----------------+----------------------+\n",
      "only showing top 20 rows\n",
      "\n"
     ]
    }
   ],
   "source": [
    "# Section B - Working with DataFrames and SQL\n",
    "\n",
    "dataframe = spark_session.read.csv(\"hdfs://192.168.2.250:9000/parking-citations.csv\", header = True, inferSchema=True)\n",
    "dataframe.show()"
   ]
  },
  {
   "cell_type": "code",
   "execution_count": 31,
   "id": "a035ddb5-2b80-40a6-b576-6aec5cf5f0ca",
   "metadata": {
    "scrolled": true
   },
   "outputs": [
    {
     "name": "stdout",
     "output_type": "stream",
     "text": [
      "root\n",
      " |-- Ticket number: string (nullable = true)\n",
      " |-- Issue Date: timestamp (nullable = true)\n",
      " |-- Issue time: double (nullable = true)\n",
      " |-- Meter Id: string (nullable = true)\n",
      " |-- Marked Time: double (nullable = true)\n",
      " |-- RP State Plate: string (nullable = true)\n",
      " |-- Plate Expiry Date: double (nullable = true)\n",
      " |-- VIN: string (nullable = true)\n",
      " |-- Make: string (nullable = true)\n",
      " |-- Body Style: string (nullable = true)\n",
      " |-- Color: string (nullable = true)\n",
      " |-- Location: string (nullable = true)\n",
      " |-- Route: string (nullable = true)\n",
      " |-- Agency: double (nullable = true)\n",
      " |-- Violation code: string (nullable = true)\n",
      " |-- Violation Description: string (nullable = true)\n",
      " |-- Fine amount: double (nullable = true)\n",
      " |-- Latitude: double (nullable = true)\n",
      " |-- Longitude: double (nullable = true)\n",
      " |-- Agency Description: string (nullable = true)\n",
      " |-- Color Description: string (nullable = true)\n",
      " |-- Body Style Description: string (nullable = true)\n",
      "\n"
     ]
    }
   ],
   "source": [
    "dataframe.printSchema()"
   ]
  },
  {
   "cell_type": "code",
   "execution_count": 21,
   "id": "a18d5d3e-384e-451d-b119-ddf75e5fc344",
   "metadata": {
    "scrolled": true
   },
   "outputs": [
    {
     "name": "stderr",
     "output_type": "stream",
     "text": [
      "[Stage 24:====================================================>   (15 + 1) / 16]\r"
     ]
    },
    {
     "name": "stdout",
     "output_type": "stream",
     "text": [
      "Number of rows: 13077724\n"
     ]
    },
    {
     "name": "stderr",
     "output_type": "stream",
     "text": [
      "                                                                                \r"
     ]
    }
   ],
   "source": [
    "# Row count of CSV file\n",
    "print(f\"Number of rows: {dataframe.count()}\")"
   ]
  },
  {
   "cell_type": "code",
   "execution_count": 22,
   "id": "a09c11f6-040c-49e0-b315-5f98928e9650",
   "metadata": {},
   "outputs": [
    {
     "name": "stdout",
     "output_type": "stream",
     "text": [
      "Number of partitions: 16\n"
     ]
    }
   ],
   "source": [
    "# Number of partitions in the underlying RDD\n",
    "print(f\"Number of partitions: {dataframe.rdd.getNumPartitions()}\")"
   ]
  },
  {
   "cell_type": "code",
   "execution_count": 33,
   "id": "70882529-d9f4-4543-ada3-1da718fa6602",
   "metadata": {},
   "outputs": [],
   "source": [
    "# Drop the columns VIN, Latitude, and Longitude\n",
    "dataframe = dataframe.drop(\"VIN\", \"Latitude\", \"Longitude\")"
   ]
  },
  {
   "cell_type": "code",
   "execution_count": 34,
   "id": "fb3056a3-d145-447b-b391-9cb370d9a570",
   "metadata": {
    "scrolled": true
   },
   "outputs": [
    {
     "name": "stdout",
     "output_type": "stream",
     "text": [
      "+-------------+-------------------+----------+--------+-----------+--------------+-----------------+----+----------+-----+--------------------+-----+------+--------------+---------------------+-----------+------------------+-----------------+----------------------+---------------+\n",
      "|Ticket number|         Issue Date|Issue time|Meter Id|Marked Time|RP State Plate|Plate Expiry Date|Make|Body Style|Color|            Location|Route|Agency|Violation code|Violation Description|Fine amount|Agency Description|Color Description|Body Style Description|FineAmountFloat|\n",
      "+-------------+-------------------+----------+--------+-----------+--------------+-----------------+----+----------+-----+--------------------+-----+------+--------------+---------------------+-----------+------------------+-----------------+----------------------+---------------+\n",
      "|   1103341116|2015-12-21 00:00:00|    1251.0|    NULL|       NULL|            CA|         200304.0|HOND|        PA|   GY|     13147 WELBY WAY|01521|   1.0|        4000A1|   NO EVIDENCE OF REG|       50.0|              NULL|             NULL|                  NULL|           50.0|\n",
      "|   1103700150|2015-12-21 00:00:00|    1435.0|    NULL|       NULL|            CA|         201512.0| GMC|        VN|   WH|       525 S MAIN ST| 1C51|   1.0|        4000A1|   NO EVIDENCE OF REG|       50.0|              NULL|             NULL|                  NULL|           50.0|\n",
      "|   1104803000|2015-12-21 00:00:00|    2055.0|    NULL|       NULL|            CA|         201503.0|NISS|        PA|   BK|       200 WORLD WAY|  2R2|   2.0|          8939|           WHITE CURB|       58.0|              NULL|             NULL|                  NULL|           58.0|\n",
      "|   1104820732|2015-12-26 00:00:00|    1515.0|    NULL|       NULL|            CA|             NULL|ACUR|        PA|   WH|       100 WORLD WAY| 2F11|   2.0|           000|               17104h|       NULL|              NULL|             NULL|                  NULL|           NULL|\n",
      "|   1105461453|2015-09-15 00:00:00|     115.0|    NULL|       NULL|            CA|         200316.0|CHEV|        PA|   BK|  GEORGIA ST/OLYMPIC|1FB70|   1.0|         8069A| NO STOPPING/STANDING|       93.0|              NULL|             NULL|                  NULL|           93.0|\n",
      "|   1106226590|2015-09-15 00:00:00|      19.0|    NULL|       NULL|            CA|         201507.0|CHEV|        VN|   GY|  SAN PEDRO S/O BOYD|1A35W|   1.0|        4000A1|   NO EVIDENCE OF REG|       50.0|              NULL|             NULL|                  NULL|           50.0|\n",
      "|   1106500452|2015-12-17 00:00:00|    1710.0|    NULL|       NULL|            CA|         201605.0|MAZD|        PA|   BL|     SUNSET/ALVARADO|00217|   1.0|          8070| PARK IN GRID LOCK ZN|      163.0|              NULL|             NULL|                  NULL|          163.0|\n",
      "|   1106500463|2015-12-17 00:00:00|    1710.0|    NULL|       NULL|            CA|         201602.0|TOYO|        PA|   BK|     SUNSET/ALVARADO|00217|   1.0|          8070| PARK IN GRID LOCK ZN|      163.0|              NULL|             NULL|                  NULL|          163.0|\n",
      "|   1106506402|2015-12-22 00:00:00|     945.0|    NULL|       NULL|            CA|         201605.0|CHEV|        PA|   BR|      721 S WESTLAKE| 2A75|   1.0|        8069AA|     NO STOP/STAND AM|       93.0|              NULL|             NULL|                  NULL|           93.0|\n",
      "|   1106506413|2015-12-22 00:00:00|    1100.0|    NULL|       NULL|            CA|         201701.0|NISS|        PA|   SI|     1159 HUNTLEY DR| 2A75|   1.0|        8069AA|     NO STOP/STAND AM|       93.0|              NULL|             NULL|                  NULL|           93.0|\n",
      "|   1106506424|2015-12-22 00:00:00|    1100.0|    NULL|       NULL|            CA|         201511.0|FORD|        TR|   WH|     1159 HUNTLEY DR| 2A75|   1.0|        8069AA|     NO STOP/STAND AM|       93.0|              NULL|             NULL|                  NULL|           93.0|\n",
      "|   1106506435|2015-12-22 00:00:00|    1105.0|    NULL|       NULL|            CA|         201701.0|CHRY|        PA|   GO|     1159 HUNTLEY DR| 2A75|   1.0|        8069AA|     NO STOP/STAND AM|       93.0|              NULL|             NULL|                  NULL|           93.0|\n",
      "|   1106506446|2015-12-22 00:00:00|    1110.0|    NULL|       NULL|            CA|         201511.0| BMW|        PA|   BK|      1200 W MIRAMAR| 2A75|   1.0|        4000A1|   NO EVIDENCE OF REG|       50.0|              NULL|             NULL|                  NULL|           50.0|\n",
      "|   1106549754|2015-12-15 00:00:00|     825.0|    NULL|       NULL|            CA|         201607.0|PTRB|        TR|   BK|           4TH/STATE| CM96|   1.0|         8069A| NO STOPPING/STANDING|       93.0|              NULL|             NULL|                  NULL|           93.0|\n",
      "|   1107179581|2015-12-27 00:00:00|    1055.0|    NULL|       NULL|            CA|         201605.0|TOYO|        PA|   BK|3100 N HOLLYRIDGE DR| NULL|  54.0|         8058L|         PREF PARKING|       68.0|              NULL|             NULL|                  NULL|           68.0|\n",
      "|   1107179592|2015-12-27 00:00:00|    1200.0|    NULL|       NULL|            CA|         201602.0|MBNZ|        PA|   BK|   3115 N BERENDO DR| NULL|  54.0|         8058L|         PREF PARKING|       68.0|              NULL|             NULL|                  NULL|           68.0|\n",
      "|   1107179603|2015-12-27 00:00:00|    1400.0|    NULL|       NULL|            CA|         201611.0|NISS|        PA|   WH| 3100 N BEACHWOOD DR| NULL|  54.0|         8058L|         PREF PARKING|       68.0|              NULL|             NULL|                  NULL|           68.0|\n",
      "|   1107539823|2015-09-16 00:00:00|    2120.0|    NULL|       NULL|            CA|         201502.0|NISS|        PA| NULL|      BLAINE/11TH PL|1FB95|   1.0|        4000A1|   NO EVIDENCE OF REG|       50.0|              NULL|             NULL|                  NULL|           50.0|\n",
      "|   1107539834|2015-09-16 00:00:00|    1045.0|    NULL|       NULL|            CA|             NULL|CHEV|        PA|   BK|  1246 S FIGUEROA ST| 1L20|   1.0|        8069AP|     NO STOP/STAND PM|       93.0|              NULL|             NULL|                  NULL|           93.0|\n",
      "|   1107780811|2015-12-22 00:00:00|    1102.0|    NULL|       NULL|            CA|         201606.0|HOND|        PA|   BK|       PLATA/RAMPART|  2A1|   1.0|         8069B|           NO PARKING|       73.0|              NULL|             NULL|                  NULL|           73.0|\n",
      "+-------------+-------------------+----------+--------+-----------+--------------+-----------------+----+----------+-----+--------------------+-----+------+--------------+---------------------+-----------+------------------+-----------------+----------------------+---------------+\n",
      "only showing top 20 rows\n",
      "\n"
     ]
    }
   ],
   "source": [
    "from pyspark.sql.functions import col\n",
    "\n",
    "# Add new column from Fine amount as float\n",
    "dataframe = dataframe.withColumn(\"FineAmountFloat\", col(\"Fine amount\").cast(\"float\"))\n",
    "\n",
    "# Show the DataFrame to verify the new column\n",
    "dataframe.show()\n"
   ]
  },
  {
   "cell_type": "code",
   "execution_count": 35,
   "id": "7d50cee8-da45-45b5-892d-5d39f8dc4e88",
   "metadata": {},
   "outputs": [
    {
     "name": "stdout",
     "output_type": "stream",
     "text": [
      "root\n",
      " |-- Ticket number: string (nullable = true)\n",
      " |-- Issue Date: timestamp (nullable = true)\n",
      " |-- Issue time: double (nullable = true)\n",
      " |-- Meter Id: string (nullable = true)\n",
      " |-- Marked Time: double (nullable = true)\n",
      " |-- RP State Plate: string (nullable = true)\n",
      " |-- Plate Expiry Date: double (nullable = true)\n",
      " |-- Make: string (nullable = true)\n",
      " |-- Body Style: string (nullable = true)\n",
      " |-- Color: string (nullable = true)\n",
      " |-- Location: string (nullable = true)\n",
      " |-- Route: string (nullable = true)\n",
      " |-- Agency: double (nullable = true)\n",
      " |-- Violation code: string (nullable = true)\n",
      " |-- Violation Description: string (nullable = true)\n",
      " |-- Fine amount: double (nullable = true)\n",
      " |-- Agency Description: string (nullable = true)\n",
      " |-- Color Description: string (nullable = true)\n",
      " |-- Body Style Description: string (nullable = true)\n",
      " |-- FineAmountFloat: float (nullable = true)\n",
      "\n"
     ]
    }
   ],
   "source": [
    "# Check that the new column was added\n",
    "dataframe.printSchema()"
   ]
  },
  {
   "cell_type": "code",
   "execution_count": null,
   "id": "27636d2a-7645-4614-a57f-a9b06a811148",
   "metadata": {
    "scrolled": true
   },
   "outputs": [
    {
     "name": "stderr",
     "output_type": "stream",
     "text": [
      "[Stage 40:============================>                            (8 + 4) / 16]\r"
     ]
    }
   ],
   "source": [
    "# Find the maximum fine amount\n",
    "max_fine = dataframe.agg({\"FineAmountFloat\": \"max\"}).collect()[0][0]\n",
    "\n",
    "# Print the maximum fine amount\n",
    "print(f\"Maximum fine amount: {max_fine}\")"
   ]
  },
  {
   "cell_type": "code",
   "execution_count": 32,
   "id": "6eb7e66b-73f6-4203-88bf-d4c9b49f0b5e",
   "metadata": {
    "scrolled": true
   },
   "outputs": [
    {
     "ename": "AnalysisException",
     "evalue": "[UNRESOLVED_COLUMN.WITH_SUGGESTION] A column or function parameter with name `FineAmountFloat` cannot be resolved. Did you mean one of the following? [`Fine amount`, `Color`, `Location`, `Route`, `Agency`].;\n'Filter ('FineAmountFloat = 1100.0)\n+- Relation [Ticket number#1147,Issue Date#1148,Issue time#1149,Meter Id#1150,Marked Time#1151,RP State Plate#1152,Plate Expiry Date#1153,VIN#1154,Make#1155,Body Style#1156,Color#1157,Location#1158,Route#1159,Agency#1160,Violation code#1161,Violation Description#1162,Fine amount#1163,Latitude#1164,Longitude#1165,Agency Description#1166,Color Description#1167,Body Style Description#1168] csv\n",
     "output_type": "error",
     "traceback": [
      "\u001b[0;31m---------------------------------------------------------------------------\u001b[0m",
      "\u001b[0;31mAnalysisException\u001b[0m                         Traceback (most recent call last)",
      "Cell \u001b[0;32mIn[32], line 2\u001b[0m\n\u001b[1;32m      1\u001b[0m \u001b[38;5;66;03m# Count how many fines have this maximum amount\u001b[39;00m\n\u001b[0;32m----> 2\u001b[0m max_fine_count \u001b[38;5;241m=\u001b[39m \u001b[43mdataframe\u001b[49m\u001b[38;5;241;43m.\u001b[39;49m\u001b[43mfilter\u001b[49m\u001b[43m(\u001b[49m\u001b[43mcol\u001b[49m\u001b[43m(\u001b[49m\u001b[38;5;124;43m\"\u001b[39;49m\u001b[38;5;124;43mFineAmountFloat\u001b[39;49m\u001b[38;5;124;43m\"\u001b[39;49m\u001b[43m)\u001b[49m\u001b[43m \u001b[49m\u001b[38;5;241;43m==\u001b[39;49m\u001b[43m \u001b[49m\u001b[43mmax_fine\u001b[49m\u001b[43m)\u001b[49m\u001b[38;5;241m.\u001b[39mcount()\n\u001b[1;32m      4\u001b[0m \u001b[38;5;28mprint\u001b[39m(\u001b[38;5;124mf\u001b[39m\u001b[38;5;124m\"\u001b[39m\u001b[38;5;124mCount of maximum fines: \u001b[39m\u001b[38;5;132;01m{\u001b[39;00mmax_fine_count\u001b[38;5;132;01m}\u001b[39;00m\u001b[38;5;124m\"\u001b[39m)\n",
      "File \u001b[0;32m~/.local/lib/python3.8/site-packages/pyspark/sql/dataframe.py:3325\u001b[0m, in \u001b[0;36mDataFrame.filter\u001b[0;34m(self, condition)\u001b[0m\n\u001b[1;32m   3323\u001b[0m     jdf \u001b[38;5;241m=\u001b[39m \u001b[38;5;28mself\u001b[39m\u001b[38;5;241m.\u001b[39m_jdf\u001b[38;5;241m.\u001b[39mfilter(condition)\n\u001b[1;32m   3324\u001b[0m \u001b[38;5;28;01melif\u001b[39;00m \u001b[38;5;28misinstance\u001b[39m(condition, Column):\n\u001b[0;32m-> 3325\u001b[0m     jdf \u001b[38;5;241m=\u001b[39m \u001b[38;5;28;43mself\u001b[39;49m\u001b[38;5;241;43m.\u001b[39;49m\u001b[43m_jdf\u001b[49m\u001b[38;5;241;43m.\u001b[39;49m\u001b[43mfilter\u001b[49m\u001b[43m(\u001b[49m\u001b[43mcondition\u001b[49m\u001b[38;5;241;43m.\u001b[39;49m\u001b[43m_jc\u001b[49m\u001b[43m)\u001b[49m\n\u001b[1;32m   3326\u001b[0m \u001b[38;5;28;01melse\u001b[39;00m:\n\u001b[1;32m   3327\u001b[0m     \u001b[38;5;28;01mraise\u001b[39;00m PySparkTypeError(\n\u001b[1;32m   3328\u001b[0m         error_class\u001b[38;5;241m=\u001b[39m\u001b[38;5;124m\"\u001b[39m\u001b[38;5;124mNOT_COLUMN_OR_STR\u001b[39m\u001b[38;5;124m\"\u001b[39m,\n\u001b[1;32m   3329\u001b[0m         message_parameters\u001b[38;5;241m=\u001b[39m{\u001b[38;5;124m\"\u001b[39m\u001b[38;5;124marg_name\u001b[39m\u001b[38;5;124m\"\u001b[39m: \u001b[38;5;124m\"\u001b[39m\u001b[38;5;124mcondition\u001b[39m\u001b[38;5;124m\"\u001b[39m, \u001b[38;5;124m\"\u001b[39m\u001b[38;5;124marg_type\u001b[39m\u001b[38;5;124m\"\u001b[39m: \u001b[38;5;28mtype\u001b[39m(condition)\u001b[38;5;241m.\u001b[39m\u001b[38;5;18m__name__\u001b[39m},\n\u001b[1;32m   3330\u001b[0m     )\n",
      "File \u001b[0;32m~/.local/lib/python3.8/site-packages/py4j/java_gateway.py:1322\u001b[0m, in \u001b[0;36mJavaMember.__call__\u001b[0;34m(self, *args)\u001b[0m\n\u001b[1;32m   1316\u001b[0m command \u001b[38;5;241m=\u001b[39m proto\u001b[38;5;241m.\u001b[39mCALL_COMMAND_NAME \u001b[38;5;241m+\u001b[39m\\\n\u001b[1;32m   1317\u001b[0m     \u001b[38;5;28mself\u001b[39m\u001b[38;5;241m.\u001b[39mcommand_header \u001b[38;5;241m+\u001b[39m\\\n\u001b[1;32m   1318\u001b[0m     args_command \u001b[38;5;241m+\u001b[39m\\\n\u001b[1;32m   1319\u001b[0m     proto\u001b[38;5;241m.\u001b[39mEND_COMMAND_PART\n\u001b[1;32m   1321\u001b[0m answer \u001b[38;5;241m=\u001b[39m \u001b[38;5;28mself\u001b[39m\u001b[38;5;241m.\u001b[39mgateway_client\u001b[38;5;241m.\u001b[39msend_command(command)\n\u001b[0;32m-> 1322\u001b[0m return_value \u001b[38;5;241m=\u001b[39m \u001b[43mget_return_value\u001b[49m\u001b[43m(\u001b[49m\n\u001b[1;32m   1323\u001b[0m \u001b[43m    \u001b[49m\u001b[43manswer\u001b[49m\u001b[43m,\u001b[49m\u001b[43m \u001b[49m\u001b[38;5;28;43mself\u001b[39;49m\u001b[38;5;241;43m.\u001b[39;49m\u001b[43mgateway_client\u001b[49m\u001b[43m,\u001b[49m\u001b[43m \u001b[49m\u001b[38;5;28;43mself\u001b[39;49m\u001b[38;5;241;43m.\u001b[39;49m\u001b[43mtarget_id\u001b[49m\u001b[43m,\u001b[49m\u001b[43m \u001b[49m\u001b[38;5;28;43mself\u001b[39;49m\u001b[38;5;241;43m.\u001b[39;49m\u001b[43mname\u001b[49m\u001b[43m)\u001b[49m\n\u001b[1;32m   1325\u001b[0m \u001b[38;5;28;01mfor\u001b[39;00m temp_arg \u001b[38;5;129;01min\u001b[39;00m temp_args:\n\u001b[1;32m   1326\u001b[0m     \u001b[38;5;28;01mif\u001b[39;00m \u001b[38;5;28mhasattr\u001b[39m(temp_arg, \u001b[38;5;124m\"\u001b[39m\u001b[38;5;124m_detach\u001b[39m\u001b[38;5;124m\"\u001b[39m):\n",
      "File \u001b[0;32m~/.local/lib/python3.8/site-packages/pyspark/errors/exceptions/captured.py:185\u001b[0m, in \u001b[0;36mcapture_sql_exception.<locals>.deco\u001b[0;34m(*a, **kw)\u001b[0m\n\u001b[1;32m    181\u001b[0m converted \u001b[38;5;241m=\u001b[39m convert_exception(e\u001b[38;5;241m.\u001b[39mjava_exception)\n\u001b[1;32m    182\u001b[0m \u001b[38;5;28;01mif\u001b[39;00m \u001b[38;5;129;01mnot\u001b[39;00m \u001b[38;5;28misinstance\u001b[39m(converted, UnknownException):\n\u001b[1;32m    183\u001b[0m     \u001b[38;5;66;03m# Hide where the exception came from that shows a non-Pythonic\u001b[39;00m\n\u001b[1;32m    184\u001b[0m     \u001b[38;5;66;03m# JVM exception message.\u001b[39;00m\n\u001b[0;32m--> 185\u001b[0m     \u001b[38;5;28;01mraise\u001b[39;00m converted \u001b[38;5;28;01mfrom\u001b[39;00m \u001b[38;5;28;01mNone\u001b[39;00m\n\u001b[1;32m    186\u001b[0m \u001b[38;5;28;01melse\u001b[39;00m:\n\u001b[1;32m    187\u001b[0m     \u001b[38;5;28;01mraise\u001b[39;00m\n",
      "\u001b[0;31mAnalysisException\u001b[0m: [UNRESOLVED_COLUMN.WITH_SUGGESTION] A column or function parameter with name `FineAmountFloat` cannot be resolved. Did you mean one of the following? [`Fine amount`, `Color`, `Location`, `Route`, `Agency`].;\n'Filter ('FineAmountFloat = 1100.0)\n+- Relation [Ticket number#1147,Issue Date#1148,Issue time#1149,Meter Id#1150,Marked Time#1151,RP State Plate#1152,Plate Expiry Date#1153,VIN#1154,Make#1155,Body Style#1156,Color#1157,Location#1158,Route#1159,Agency#1160,Violation code#1161,Violation Description#1162,Fine amount#1163,Latitude#1164,Longitude#1165,Agency Description#1166,Color Description#1167,Body Style Description#1168] csv\n"
     ]
    }
   ],
   "source": [
    "# Count how many fines have this maximum amount\n",
    "max_fine_count = dataframe.filter(col(\"FineAmountFloat\") == max_fine).count()\n",
    "\n",
    "print(f\"Count of maximum fines: {max_fine_count}\")"
   ]
  },
  {
   "cell_type": "code",
   "execution_count": 14,
   "id": "74136781-bed6-4836-aae7-e8975ce04995",
   "metadata": {
    "scrolled": true
   },
   "outputs": [
    {
     "name": "stderr",
     "output_type": "stream",
     "text": [
      "24/03/06 21:34:55 INFO FileSourceStrategy: Pushed Filters: \n",
      "24/03/06 21:34:55 INFO FileSourceStrategy: Post-Scan Filters: \n",
      "24/03/06 21:34:55 INFO MemoryStore: Block broadcast_27 stored as values in memory (estimated size 200.7 KiB, free 433.4 MiB)\n",
      "24/03/06 21:34:55 INFO MemoryStore: Block broadcast_27_piece0 stored as bytes in memory (estimated size 34.8 KiB, free 433.4 MiB)\n",
      "24/03/06 21:34:55 INFO BlockManagerInfo: Added broadcast_27_piece0 in memory on host-192-168-2-147-de1:10005 (size: 34.8 KiB, free: 434.2 MiB)\n",
      "24/03/06 21:34:55 INFO SparkContext: Created broadcast 27 from showString at NativeMethodAccessorImpl.java:0\n",
      "24/03/06 21:34:55 INFO FileSourceScanExec: Planning scan with bin packing, max size: 134217728 bytes, open cost is considered as scanning 4194304 bytes.\n",
      "24/03/06 21:34:55 INFO DAGScheduler: Registering RDD 71 (showString at NativeMethodAccessorImpl.java:0) as input to shuffle 6\n",
      "24/03/06 21:34:55 INFO DAGScheduler: Got map stage job 16 (showString at NativeMethodAccessorImpl.java:0) with 16 output partitions\n",
      "24/03/06 21:34:55 INFO DAGScheduler: Final stage: ShuffleMapStage 22 (showString at NativeMethodAccessorImpl.java:0)\n",
      "24/03/06 21:34:55 INFO DAGScheduler: Parents of final stage: List()\n",
      "24/03/06 21:34:55 INFO DAGScheduler: Missing parents: List()\n",
      "24/03/06 21:34:55 INFO DAGScheduler: Submitting ShuffleMapStage 22 (MapPartitionsRDD[71] at showString at NativeMethodAccessorImpl.java:0), which has no missing parents\n",
      "24/03/06 21:34:55 INFO MemoryStore: Block broadcast_28 stored as values in memory (estimated size 39.3 KiB, free 433.3 MiB)\n",
      "24/03/06 21:34:55 INFO MemoryStore: Block broadcast_28_piece0 stored as bytes in memory (estimated size 18.7 KiB, free 433.3 MiB)\n",
      "24/03/06 21:34:55 INFO BlockManagerInfo: Added broadcast_28_piece0 in memory on host-192-168-2-147-de1:10005 (size: 18.7 KiB, free: 434.2 MiB)\n",
      "24/03/06 21:34:55 INFO SparkContext: Created broadcast 28 from broadcast at DAGScheduler.scala:1580\n",
      "24/03/06 21:34:55 INFO DAGScheduler: Submitting 16 missing tasks from ShuffleMapStage 22 (MapPartitionsRDD[71] at showString at NativeMethodAccessorImpl.java:0) (first 15 tasks are for partitions Vector(0, 1, 2, 3, 4, 5, 6, 7, 8, 9, 10, 11, 12, 13, 14))\n",
      "24/03/06 21:34:55 INFO TaskSchedulerImpl: Adding task set 22.0 with 16 tasks resource profile 0\n",
      "24/03/06 21:34:55 INFO TaskSetManager: Starting task 0.0 in stage 22.0 (TID 121) (192.168.2.250, executor 1, partition 0, ANY, 8218 bytes) \n",
      "24/03/06 21:34:55 INFO TaskSetManager: Starting task 1.0 in stage 22.0 (TID 122) (192.168.2.250, executor 0, partition 1, ANY, 8218 bytes) \n",
      "24/03/06 21:34:55 INFO TaskSetManager: Starting task 2.0 in stage 22.0 (TID 123) (192.168.2.250, executor 1, partition 2, ANY, 8218 bytes) \n",
      "24/03/06 21:34:55 INFO TaskSetManager: Starting task 3.0 in stage 22.0 (TID 124) (192.168.2.250, executor 0, partition 3, ANY, 8218 bytes) \n",
      "24/03/06 21:34:55 INFO BlockManagerInfo: Added broadcast_28_piece0 in memory on 192.168.2.250:10006 (size: 18.7 KiB, free: 366.2 MiB)\n",
      "24/03/06 21:34:55 INFO BlockManagerInfo: Added broadcast_28_piece0 in memory on 192.168.2.250:10005 (size: 18.7 KiB, free: 366.2 MiB)\n",
      "24/03/06 21:34:55 INFO BlockManagerInfo: Added broadcast_27_piece0 in memory on 192.168.2.250:10006 (size: 34.8 KiB, free: 366.2 MiB)\n",
      "24/03/06 21:34:55 INFO BlockManagerInfo: Added broadcast_27_piece0 in memory on 192.168.2.250:10005 (size: 34.8 KiB, free: 366.1 MiB)\n",
      "24/03/06 21:34:57 INFO TaskSetManager: Starting task 4.0 in stage 22.0 (TID 125) (192.168.2.250, executor 0, partition 4, ANY, 8218 bytes) \n",
      "24/03/06 21:34:57 INFO TaskSetManager: Finished task 3.0 in stage 22.0 (TID 124) in 1821 ms on 192.168.2.250 (executor 0) (1/16)\n",
      "24/03/06 21:34:57 INFO TaskSetManager: Starting task 5.0 in stage 22.0 (TID 126) (192.168.2.250, executor 0, partition 5, ANY, 8218 bytes) \n",
      "24/03/06 21:34:57 INFO TaskSetManager: Finished task 1.0 in stage 22.0 (TID 122) in 1890 ms on 192.168.2.250 (executor 0) (2/16)\n",
      "24/03/06 21:34:57 INFO TaskSetManager: Starting task 6.0 in stage 22.0 (TID 127) (192.168.2.250, executor 1, partition 6, ANY, 8218 bytes) \n",
      "24/03/06 21:34:57 INFO TaskSetManager: Finished task 2.0 in stage 22.0 (TID 123) in 1916 ms on 192.168.2.250 (executor 1) (3/16)\n",
      "24/03/06 21:34:57 INFO TaskSetManager: Finished task 0.0 in stage 22.0 (TID 121) in 2009 ms on 192.168.2.250 (executor 1) (4/16)\n",
      "24/03/06 21:34:57 INFO TaskSetManager: Starting task 7.0 in stage 22.0 (TID 128) (192.168.2.250, executor 1, partition 7, ANY, 8218 bytes) \n",
      "24/03/06 21:34:58 INFO TaskSetManager: Starting task 8.0 in stage 22.0 (TID 129) (192.168.2.250, executor 0, partition 8, ANY, 8218 bytes) \n",
      "24/03/06 21:34:58 INFO TaskSetManager: Finished task 4.0 in stage 22.0 (TID 125) in 1594 ms on 192.168.2.250 (executor 0) (5/16)\n",
      "24/03/06 21:34:58 INFO TaskSetManager: Starting task 9.0 in stage 22.0 (TID 130) (192.168.2.250, executor 0, partition 9, ANY, 8218 bytes) \n",
      "24/03/06 21:34:59 INFO TaskSetManager: Finished task 5.0 in stage 22.0 (TID 126) in 1675 ms on 192.168.2.250 (executor 0) (6/16)\n",
      "24/03/06 21:34:59 INFO TaskSetManager: Starting task 10.0 in stage 22.0 (TID 131) (192.168.2.250, executor 1, partition 10, ANY, 8218 bytes) \n",
      "24/03/06 21:34:59 INFO TaskSetManager: Finished task 6.0 in stage 22.0 (TID 127) in 1757 ms on 192.168.2.250 (executor 1) (7/16)\n",
      "24/03/06 21:34:59 INFO TaskSetManager: Starting task 11.0 in stage 22.0 (TID 132) (192.168.2.250, executor 1, partition 11, ANY, 8218 bytes) \n",
      "24/03/06 21:34:59 INFO TaskSetManager: Finished task 7.0 in stage 22.0 (TID 128) in 1781 ms on 192.168.2.250 (executor 1) (8/16)\n",
      "24/03/06 21:35:00 INFO TaskSetManager: Starting task 12.0 in stage 22.0 (TID 133) (192.168.2.250, executor 0, partition 12, ANY, 8218 bytes) \n",
      "24/03/06 21:35:00 INFO TaskSetManager: Finished task 8.0 in stage 22.0 (TID 129) in 1875 ms on 192.168.2.250 (executor 0) (9/16)\n",
      "24/03/06 21:35:00 INFO TaskSetManager: Starting task 13.0 in stage 22.0 (TID 134) (192.168.2.250, executor 1, partition 13, ANY, 8218 bytes) \n",
      "24/03/06 21:35:00 INFO TaskSetManager: Finished task 10.0 in stage 22.0 (TID 131) in 1861 ms on 192.168.2.250 (executor 1) (10/16)\n",
      "24/03/06 21:35:00 INFO TaskSetManager: Finished task 9.0 in stage 22.0 (TID 130) in 1988 ms on 192.168.2.250 (executor 0) (11/16)\n",
      "24/03/06 21:35:00 INFO TaskSetManager: Starting task 14.0 in stage 22.0 (TID 135) (192.168.2.250, executor 0, partition 14, ANY, 8218 bytes) \n",
      "24/03/06 21:35:01 INFO TaskSetManager: Finished task 11.0 in stage 22.0 (TID 132) in 1916 ms on 192.168.2.250 (executor 1) (12/16)\n",
      "24/03/06 21:35:01 INFO TaskSetManager: Starting task 15.0 in stage 22.0 (TID 136) (192.168.2.250, executor 1, partition 15, ANY, 8218 bytes) \n",
      "24/03/06 21:35:01 INFO TaskSetManager: Finished task 15.0 in stage 22.0 (TID 136) in 367 ms on 192.168.2.250 (executor 1) (13/16)\n",
      "24/03/06 21:35:02 INFO TaskSetManager: Finished task 12.0 in stage 22.0 (TID 133) in 1478 ms on 192.168.2.250 (executor 0) (14/16)\n",
      "24/03/06 21:35:02 INFO TaskSetManager: Finished task 14.0 in stage 22.0 (TID 135) in 1498 ms on 192.168.2.250 (executor 0) (15/16)\n",
      "[Stage 22:====================================================>   (15 + 1) / 16]\r"
     ]
    },
    {
     "name": "stdout",
     "output_type": "stream",
     "text": [
      "+----+-------+\n",
      "|Make|  count|\n",
      "+----+-------+\n",
      "|TOYT|2150768|\n",
      "|HOND|1479996|\n",
      "|FORD|1116235|\n",
      "|NISS| 945133|\n",
      "|CHEV| 892676|\n",
      "| BMW| 603092|\n",
      "|MERZ| 543298|\n",
      "|VOLK| 432030|\n",
      "|HYUN| 404917|\n",
      "|DODG| 391686|\n",
      "|LEXS| 368420|\n",
      "| KIA| 328155|\n",
      "|JEEP| 316300|\n",
      "|AUDI| 255395|\n",
      "|MAZD| 242344|\n",
      "|OTHR| 205546|\n",
      "| GMC| 184889|\n",
      "|INFI| 174315|\n",
      "|CHRY| 159948|\n",
      "|SUBA| 154640|\n",
      "+----+-------+\n",
      "only showing top 20 rows\n",
      "\n"
     ]
    },
    {
     "name": "stderr",
     "output_type": "stream",
     "text": [
      "24/03/06 21:35:02 INFO TaskSetManager: Finished task 13.0 in stage 22.0 (TID 134) in 1729 ms on 192.168.2.250 (executor 1) (16/16)\n",
      "24/03/06 21:35:02 INFO TaskSchedulerImpl: Removed TaskSet 22.0, whose tasks have all completed, from pool \n",
      "24/03/06 21:35:02 INFO DAGScheduler: ShuffleMapStage 22 (showString at NativeMethodAccessorImpl.java:0) finished in 7.273 s\n",
      "24/03/06 21:35:02 INFO DAGScheduler: looking for newly runnable stages\n",
      "24/03/06 21:35:02 INFO DAGScheduler: running: Set()\n",
      "24/03/06 21:35:02 INFO DAGScheduler: waiting: Set()\n",
      "24/03/06 21:35:02 INFO DAGScheduler: failed: Set()\n",
      "24/03/06 21:35:02 INFO ShufflePartitionsUtil: For shuffle(6), advisory target size: 67108864, actual target size 1048576, minimum partition size: 1048576\n",
      "24/03/06 21:35:02 INFO HashAggregateExec: spark.sql.codegen.aggregate.map.twolevel.enabled is set to true, but current version of codegened fast hashmap does not support this aggregate.\n",
      "24/03/06 21:35:02 INFO SparkContext: Starting job: showString at NativeMethodAccessorImpl.java:0\n",
      "24/03/06 21:35:02 INFO DAGScheduler: Got job 17 (showString at NativeMethodAccessorImpl.java:0) with 1 output partitions\n",
      "24/03/06 21:35:02 INFO DAGScheduler: Final stage: ResultStage 24 (showString at NativeMethodAccessorImpl.java:0)\n",
      "24/03/06 21:35:02 INFO DAGScheduler: Parents of final stage: List(ShuffleMapStage 23)\n",
      "24/03/06 21:35:02 INFO DAGScheduler: Missing parents: List()\n",
      "24/03/06 21:35:02 INFO DAGScheduler: Submitting ResultStage 24 (MapPartitionsRDD[75] at showString at NativeMethodAccessorImpl.java:0), which has no missing parents\n",
      "24/03/06 21:35:02 INFO MemoryStore: Block broadcast_29 stored as values in memory (estimated size 42.3 KiB, free 433.3 MiB)\n",
      "24/03/06 21:35:02 INFO MemoryStore: Block broadcast_29_piece0 stored as bytes in memory (estimated size 20.1 KiB, free 433.2 MiB)\n",
      "24/03/06 21:35:02 INFO BlockManagerInfo: Added broadcast_29_piece0 in memory on host-192-168-2-147-de1:10005 (size: 20.1 KiB, free: 434.2 MiB)\n",
      "24/03/06 21:35:02 INFO SparkContext: Created broadcast 29 from broadcast at DAGScheduler.scala:1580\n",
      "24/03/06 21:35:02 INFO DAGScheduler: Submitting 1 missing tasks from ResultStage 24 (MapPartitionsRDD[75] at showString at NativeMethodAccessorImpl.java:0) (first 15 tasks are for partitions Vector(0))\n",
      "24/03/06 21:35:02 INFO TaskSchedulerImpl: Adding task set 24.0 with 1 tasks resource profile 0\n",
      "24/03/06 21:35:02 INFO TaskSetManager: Starting task 0.0 in stage 24.0 (TID 137) (192.168.2.250, executor 0, partition 0, NODE_LOCAL, 7619 bytes) \n",
      "24/03/06 21:35:02 INFO BlockManagerInfo: Added broadcast_29_piece0 in memory on 192.168.2.250:10006 (size: 20.1 KiB, free: 366.1 MiB)\n",
      "24/03/06 21:35:02 INFO MapOutputTrackerMasterEndpoint: Asked to send map output locations for shuffle 6 to 192.168.2.250:36806\n",
      "24/03/06 21:35:02 INFO TaskSetManager: Finished task 0.0 in stage 24.0 (TID 137) in 55 ms on 192.168.2.250 (executor 0) (1/1)\n",
      "24/03/06 21:35:02 INFO TaskSchedulerImpl: Removed TaskSet 24.0, whose tasks have all completed, from pool \n",
      "24/03/06 21:35:02 INFO DAGScheduler: ResultStage 24 (showString at NativeMethodAccessorImpl.java:0) finished in 0.070 s\n",
      "24/03/06 21:35:02 INFO DAGScheduler: Job 17 is finished. Cancelling potential speculative or zombie tasks for this job\n",
      "24/03/06 21:35:02 INFO TaskSchedulerImpl: Killing all running tasks in stage 24: Stage finished\n",
      "24/03/06 21:35:02 INFO DAGScheduler: Job 17 finished: showString at NativeMethodAccessorImpl.java:0, took 0.093428 s\n",
      "                                                                                \r"
     ]
    }
   ],
   "source": [
    "from pyspark.sql import functions as pyfuncs\n",
    "\n",
    "# Show the top 20 most frequent vehicle makes, and their frequencies\n",
    "vehicle_makes = dataframe.groupBy(\"Make\").count()\n",
    "\n",
    "sorted_makes = vehicle_makes.orderBy(\"Count\", ascending=False).show(20)"
   ]
  },
  {
   "cell_type": "code",
   "execution_count": 18,
   "id": "858ce415-6b1a-452a-bf27-1bad97e87c12",
   "metadata": {},
   "outputs": [],
   "source": [
    "# Expand abbreviations in the color column using a User Defined Function\n",
    "from pyspark.sql.functions import udf\n",
    "from pyspark.sql.types import StringType\n",
    "\n",
    "# Define a dictionary mapping color abbreviations to their full names\n",
    "COLORS = {\n",
    "    'AL': 'Aluminum', 'AM': 'Amber', 'BG': 'Beige', 'BK': 'Black',\n",
    "    'BL': 'Blue', 'BN': 'Brown', 'BR': 'Brown', 'BZ': 'Bronze',\n",
    "    'CH': 'Charcoal', 'DK': 'Dark', 'GD': 'Gold', 'GO': 'Gold',\n",
    "    'GN': 'Green', 'GY': 'Gray', 'GT': 'Granite', 'IV': 'Ivory',\n",
    "    'LT': 'Light', 'OL': 'Olive', 'OR': 'Orange', 'MR': 'Maroon',\n",
    "    'PK': 'Pink', 'RD': 'Red', 'RE': 'Red', 'SI': 'Silver', 'SL': 'Silver',\n",
    "    'SM': 'Smoke', 'TN': 'Tan', 'VT': 'Violet', 'WT': 'White', 'WH': 'White',\n",
    "    'YL': 'Yellow', 'YE': 'Yellow', 'UN': 'Unknown'\n",
    "}\n",
    "\n",
    "# The function takes a color abbreviation and returns the full color name using the dictionary defined above\n",
    "# if there is no key matching the original color, the original color is returned\n",
    "def expand_color_abbreviation(color_abbr):\n",
    "    return COLORS.get(color_abbr, color_abbr)\n",
    "\n",
    "# chekc the udf with Spark, specifying the return type as StringType\n",
    "expand_color_udf = udf(expand_color_abbreviation, StringType())\n",
    "\n",
    "# apply the udf to the Color column of the DataFrame, creates a new column ColorLong with expanded color names\n",
    "dataframe = dataframe.withColumn(\"ColorLong\", expand_color_udf(dataframe[\"Color\"]))"
   ]
  },
  {
   "cell_type": "code",
   "execution_count": 19,
   "id": "6d8fdc93-5697-45ed-9c8d-a9d3e585c35f",
   "metadata": {
    "scrolled": true
   },
   "outputs": [
    {
     "name": "stderr",
     "output_type": "stream",
     "text": [
      "24/03/06 21:43:08 INFO FileSourceStrategy: Pushed Filters: IsNotNull(Make),EqualTo(Make,TOYT)\n",
      "24/03/06 21:43:08 INFO FileSourceStrategy: Post-Scan Filters: isnotnull(Make#25),(Make#25 = TOYT)\n",
      "24/03/06 21:43:09 INFO MemoryStore: Block broadcast_33 stored as values in memory (estimated size 200.7 KiB, free 432.7 MiB)\n",
      "24/03/06 21:43:09 INFO MemoryStore: Block broadcast_33_piece0 stored as bytes in memory (estimated size 34.8 KiB, free 432.6 MiB)\n",
      "24/03/06 21:43:09 INFO BlockManagerInfo: Added broadcast_33_piece0 in memory on host-192-168-2-147-de1:10005 (size: 34.8 KiB, free: 434.1 MiB)\n",
      "24/03/06 21:43:09 INFO SparkContext: Created broadcast 33 from showString at NativeMethodAccessorImpl.java:0\n",
      "24/03/06 21:43:09 INFO FileSourceScanExec: Planning scan with bin packing, max size: 134217728 bytes, open cost is considered as scanning 4194304 bytes.\n",
      "24/03/06 21:43:09 INFO DAGScheduler: Registering RDD 93 (showString at NativeMethodAccessorImpl.java:0) as input to shuffle 8\n",
      "24/03/06 21:43:09 INFO DAGScheduler: Got map stage job 20 (showString at NativeMethodAccessorImpl.java:0) with 16 output partitions\n",
      "24/03/06 21:43:09 INFO DAGScheduler: Final stage: ShuffleMapStage 28 (showString at NativeMethodAccessorImpl.java:0)\n",
      "24/03/06 21:43:09 INFO DAGScheduler: Parents of final stage: List()\n",
      "24/03/06 21:43:09 INFO DAGScheduler: Missing parents: List()\n",
      "24/03/06 21:43:09 INFO DAGScheduler: Submitting ShuffleMapStage 28 (MapPartitionsRDD[93] at showString at NativeMethodAccessorImpl.java:0), which has no missing parents\n",
      "24/03/06 21:43:09 INFO MemoryStore: Block broadcast_34 stored as values in memory (estimated size 47.9 KiB, free 432.6 MiB)\n",
      "24/03/06 21:43:09 INFO MemoryStore: Block broadcast_34_piece0 stored as bytes in memory (estimated size 22.8 KiB, free 432.6 MiB)\n",
      "24/03/06 21:43:09 INFO BlockManagerInfo: Added broadcast_34_piece0 in memory on host-192-168-2-147-de1:10005 (size: 22.8 KiB, free: 434.1 MiB)\n",
      "24/03/06 21:43:09 INFO SparkContext: Created broadcast 34 from broadcast at DAGScheduler.scala:1580\n",
      "24/03/06 21:43:09 INFO DAGScheduler: Submitting 16 missing tasks from ShuffleMapStage 28 (MapPartitionsRDD[93] at showString at NativeMethodAccessorImpl.java:0) (first 15 tasks are for partitions Vector(0, 1, 2, 3, 4, 5, 6, 7, 8, 9, 10, 11, 12, 13, 14))\n",
      "24/03/06 21:43:09 INFO TaskSchedulerImpl: Adding task set 28.0 with 16 tasks resource profile 0\n",
      "24/03/06 21:43:09 INFO TaskSetManager: Starting task 0.0 in stage 28.0 (TID 155) (192.168.2.250, executor 1, partition 0, ANY, 8218 bytes) \n",
      "24/03/06 21:43:09 INFO TaskSetManager: Starting task 1.0 in stage 28.0 (TID 156) (192.168.2.250, executor 0, partition 1, ANY, 8218 bytes) \n",
      "24/03/06 21:43:09 INFO TaskSetManager: Starting task 2.0 in stage 28.0 (TID 157) (192.168.2.250, executor 1, partition 2, ANY, 8218 bytes) \n",
      "24/03/06 21:43:09 INFO TaskSetManager: Starting task 3.0 in stage 28.0 (TID 158) (192.168.2.250, executor 0, partition 3, ANY, 8218 bytes) \n",
      "24/03/06 21:43:09 INFO BlockManagerInfo: Added broadcast_34_piece0 in memory on 192.168.2.250:10006 (size: 22.8 KiB, free: 366.1 MiB)\n",
      "24/03/06 21:43:09 INFO BlockManagerInfo: Added broadcast_34_piece0 in memory on 192.168.2.250:10005 (size: 22.8 KiB, free: 366.0 MiB)\n",
      "24/03/06 21:43:09 INFO BlockManagerInfo: Added broadcast_33_piece0 in memory on 192.168.2.250:10006 (size: 34.8 KiB, free: 366.0 MiB)\n",
      "24/03/06 21:43:09 INFO BlockManagerInfo: Added broadcast_33_piece0 in memory on 192.168.2.250:10005 (size: 34.8 KiB, free: 366.0 MiB)\n",
      "24/03/06 21:43:11 INFO TaskSetManager: Starting task 4.0 in stage 28.0 (TID 159) (192.168.2.250, executor 0, partition 4, ANY, 8218 bytes) \n",
      "24/03/06 21:43:11 INFO TaskSetManager: Finished task 1.0 in stage 28.0 (TID 156) in 2001 ms on 192.168.2.250 (executor 0) (1/16)\n",
      "24/03/06 21:43:11 INFO TaskSetManager: Starting task 5.0 in stage 28.0 (TID 160) (192.168.2.250, executor 1, partition 5, ANY, 8218 bytes) \n",
      "24/03/06 21:43:11 INFO TaskSetManager: Finished task 0.0 in stage 28.0 (TID 155) in 2062 ms on 192.168.2.250 (executor 1) (2/16)\n",
      "24/03/06 21:43:11 INFO TaskSetManager: Starting task 6.0 in stage 28.0 (TID 161) (192.168.2.250, executor 1, partition 6, ANY, 8218 bytes) \n",
      "24/03/06 21:43:11 INFO TaskSetManager: Finished task 2.0 in stage 28.0 (TID 157) in 2071 ms on 192.168.2.250 (executor 1) (3/16)\n",
      "24/03/06 21:43:11 INFO TaskSetManager: Starting task 7.0 in stage 28.0 (TID 162) (192.168.2.250, executor 0, partition 7, ANY, 8218 bytes) \n",
      "24/03/06 21:43:11 INFO TaskSetManager: Finished task 3.0 in stage 28.0 (TID 158) in 2136 ms on 192.168.2.250 (executor 0) (4/16)\n",
      "24/03/06 21:43:12 INFO TaskSetManager: Starting task 8.0 in stage 28.0 (TID 163) (192.168.2.250, executor 1, partition 8, ANY, 8218 bytes) \n",
      "24/03/06 21:43:12 INFO TaskSetManager: Finished task 6.0 in stage 28.0 (TID 161) in 1825 ms on 192.168.2.250 (executor 1) (5/16)\n",
      "24/03/06 21:43:12 INFO TaskSetManager: Starting task 9.0 in stage 28.0 (TID 164) (192.168.2.250, executor 0, partition 9, ANY, 8218 bytes) \n",
      "24/03/06 21:43:12 INFO TaskSetManager: Finished task 7.0 in stage 28.0 (TID 162) in 1765 ms on 192.168.2.250 (executor 0) (6/16)\n",
      "24/03/06 21:43:13 INFO TaskSetManager: Starting task 10.0 in stage 28.0 (TID 165) (192.168.2.250, executor 0, partition 10, ANY, 8218 bytes) \n",
      "24/03/06 21:43:13 INFO TaskSetManager: Finished task 4.0 in stage 28.0 (TID 159) in 1951 ms on 192.168.2.250 (executor 0) (7/16)\n",
      "24/03/06 21:43:13 INFO TaskSetManager: Finished task 5.0 in stage 28.0 (TID 160) in 1891 ms on 192.168.2.250 (executor 1) (8/16)\n",
      "24/03/06 21:43:13 INFO TaskSetManager: Starting task 11.0 in stage 28.0 (TID 166) (192.168.2.250, executor 1, partition 11, ANY, 8218 bytes) \n",
      "24/03/06 21:43:14 INFO TaskSetManager: Starting task 12.0 in stage 28.0 (TID 167) (192.168.2.250, executor 0, partition 12, ANY, 8218 bytes) \n",
      "24/03/06 21:43:14 INFO TaskSetManager: Finished task 10.0 in stage 28.0 (TID 165) in 1726 ms on 192.168.2.250 (executor 0) (9/16)\n",
      "24/03/06 21:43:14 INFO TaskSetManager: Starting task 13.0 in stage 28.0 (TID 168) (192.168.2.250, executor 1, partition 13, ANY, 8218 bytes) \n",
      "24/03/06 21:43:14 INFO TaskSetManager: Finished task 8.0 in stage 28.0 (TID 163) in 1896 ms on 192.168.2.250 (executor 1) (10/16)\n",
      "24/03/06 21:43:14 INFO TaskSetManager: Starting task 14.0 in stage 28.0 (TID 169) (192.168.2.250, executor 1, partition 14, ANY, 8218 bytes) \n",
      "24/03/06 21:43:14 INFO TaskSetManager: Finished task 11.0 in stage 28.0 (TID 166) in 1887 ms on 192.168.2.250 (executor 1) (11/16)\n",
      "24/03/06 21:43:14 INFO TaskSetManager: Starting task 15.0 in stage 28.0 (TID 170) (192.168.2.250, executor 0, partition 15, ANY, 8218 bytes) \n",
      "24/03/06 21:43:14 INFO TaskSetManager: Finished task 9.0 in stage 28.0 (TID 164) in 1950 ms on 192.168.2.250 (executor 0) (12/16)\n",
      "24/03/06 21:43:15 INFO TaskSetManager: Finished task 15.0 in stage 28.0 (TID 170) in 430 ms on 192.168.2.250 (executor 0) (13/16)\n",
      "24/03/06 21:43:16 INFO TaskSetManager: Finished task 12.0 in stage 28.0 (TID 167) in 1666 ms on 192.168.2.250 (executor 0) (14/16)\n",
      "24/03/06 21:43:16 INFO TaskSetManager: Finished task 13.0 in stage 28.0 (TID 168) in 1720 ms on 192.168.2.250 (executor 1) (15/16)\n",
      "[Stage 28:====================================================>   (15 + 1) / 16]\r"
     ]
    },
    {
     "name": "stdout",
     "output_type": "stream",
     "text": [
      "+---------+------+\n",
      "|ColorLong| count|\n",
      "+---------+------+\n",
      "|     Gray|489697|\n",
      "+---------+------+\n",
      "only showing top 1 row\n",
      "\n"
     ]
    },
    {
     "name": "stderr",
     "output_type": "stream",
     "text": [
      "24/03/06 21:43:16 INFO TaskSetManager: Finished task 14.0 in stage 28.0 (TID 169) in 1788 ms on 192.168.2.250 (executor 1) (16/16)\n",
      "24/03/06 21:43:16 INFO TaskSchedulerImpl: Removed TaskSet 28.0, whose tasks have all completed, from pool \n",
      "24/03/06 21:43:16 INFO DAGScheduler: ShuffleMapStage 28 (showString at NativeMethodAccessorImpl.java:0) finished in 7.638 s\n",
      "24/03/06 21:43:16 INFO DAGScheduler: looking for newly runnable stages\n",
      "24/03/06 21:43:16 INFO DAGScheduler: running: Set()\n",
      "24/03/06 21:43:16 INFO DAGScheduler: waiting: Set()\n",
      "24/03/06 21:43:16 INFO DAGScheduler: failed: Set()\n",
      "24/03/06 21:43:16 INFO ShufflePartitionsUtil: For shuffle(8), advisory target size: 67108864, actual target size 1048576, minimum partition size: 1048576\n",
      "24/03/06 21:43:16 INFO HashAggregateExec: spark.sql.codegen.aggregate.map.twolevel.enabled is set to true, but current version of codegened fast hashmap does not support this aggregate.\n",
      "24/03/06 21:43:16 INFO SparkContext: Starting job: showString at NativeMethodAccessorImpl.java:0\n",
      "24/03/06 21:43:16 INFO DAGScheduler: Got job 21 (showString at NativeMethodAccessorImpl.java:0) with 1 output partitions\n",
      "24/03/06 21:43:16 INFO DAGScheduler: Final stage: ResultStage 30 (showString at NativeMethodAccessorImpl.java:0)\n",
      "24/03/06 21:43:16 INFO DAGScheduler: Parents of final stage: List(ShuffleMapStage 29)\n",
      "24/03/06 21:43:16 INFO DAGScheduler: Missing parents: List()\n",
      "24/03/06 21:43:16 INFO DAGScheduler: Submitting ResultStage 30 (MapPartitionsRDD[97] at showString at NativeMethodAccessorImpl.java:0), which has no missing parents\n",
      "24/03/06 21:43:16 INFO MemoryStore: Block broadcast_35 stored as values in memory (estimated size 48.3 KiB, free 432.5 MiB)\n",
      "24/03/06 21:43:16 INFO MemoryStore: Block broadcast_35_piece0 stored as bytes in memory (estimated size 23.3 KiB, free 432.5 MiB)\n",
      "24/03/06 21:43:16 INFO BlockManagerInfo: Added broadcast_35_piece0 in memory on host-192-168-2-147-de1:10005 (size: 23.3 KiB, free: 434.0 MiB)\n",
      "24/03/06 21:43:16 INFO SparkContext: Created broadcast 35 from broadcast at DAGScheduler.scala:1580\n",
      "24/03/06 21:43:16 INFO DAGScheduler: Submitting 1 missing tasks from ResultStage 30 (MapPartitionsRDD[97] at showString at NativeMethodAccessorImpl.java:0) (first 15 tasks are for partitions Vector(0))\n",
      "24/03/06 21:43:16 INFO TaskSchedulerImpl: Adding task set 30.0 with 1 tasks resource profile 0\n",
      "24/03/06 21:43:16 INFO TaskSetManager: Starting task 0.0 in stage 30.0 (TID 171) (192.168.2.250, executor 0, partition 0, NODE_LOCAL, 7619 bytes) \n",
      "24/03/06 21:43:16 INFO BlockManagerInfo: Added broadcast_35_piece0 in memory on 192.168.2.250:10006 (size: 23.3 KiB, free: 366.0 MiB)\n",
      "24/03/06 21:43:16 INFO MapOutputTrackerMasterEndpoint: Asked to send map output locations for shuffle 8 to 192.168.2.250:36806\n",
      "24/03/06 21:43:16 INFO TaskSetManager: Finished task 0.0 in stage 30.0 (TID 171) in 50 ms on 192.168.2.250 (executor 0) (1/1)\n",
      "24/03/06 21:43:16 INFO TaskSchedulerImpl: Removed TaskSet 30.0, whose tasks have all completed, from pool \n",
      "24/03/06 21:43:16 INFO DAGScheduler: ResultStage 30 (showString at NativeMethodAccessorImpl.java:0) finished in 0.059 s\n",
      "24/03/06 21:43:16 INFO DAGScheduler: Job 21 is finished. Cancelling potential speculative or zombie tasks for this job\n",
      "24/03/06 21:43:16 INFO TaskSchedulerImpl: Killing all running tasks in stage 30: Stage finished\n",
      "24/03/06 21:43:16 INFO DAGScheduler: Job 21 finished: showString at NativeMethodAccessorImpl.java:0, took 0.064860 s\n",
      "24/03/06 21:45:58 INFO BlockManagerInfo: Removed broadcast_32_piece0 on host-192-168-2-147-de1:10005 in memory (size: 23.3 KiB, free: 434.1 MiB)\n",
      "24/03/06 21:45:58 INFO BlockManagerInfo: Removed broadcast_32_piece0 on 192.168.2.250:10005 in memory (size: 23.3 KiB, free: 366.0 MiB)\n",
      "24/03/06 21:45:58 INFO BlockManagerInfo: Removed broadcast_26_piece0 on host-192-168-2-147-de1:10005 in memory (size: 20.1 KiB, free: 434.1 MiB)\n",
      "24/03/06 21:45:58 INFO BlockManagerInfo: Removed broadcast_26_piece0 on 192.168.2.250:10005 in memory (size: 20.1 KiB, free: 366.0 MiB)\n",
      "24/03/06 21:45:58 INFO BlockManagerInfo: Removed broadcast_25_piece0 on host-192-168-2-147-de1:10005 in memory (size: 18.7 KiB, free: 434.1 MiB)\n",
      "24/03/06 21:45:58 INFO BlockManagerInfo: Removed broadcast_25_piece0 on 192.168.2.250:10006 in memory (size: 18.7 KiB, free: 366.0 MiB)\n",
      "24/03/06 21:45:58 INFO BlockManagerInfo: Removed broadcast_25_piece0 on 192.168.2.250:10005 in memory (size: 18.7 KiB, free: 366.1 MiB)\n",
      "24/03/06 21:45:58 INFO BlockManagerInfo: Removed broadcast_28_piece0 on host-192-168-2-147-de1:10005 in memory (size: 18.7 KiB, free: 434.1 MiB)\n",
      "24/03/06 21:45:58 INFO BlockManagerInfo: Removed broadcast_28_piece0 on 192.168.2.250:10005 in memory (size: 18.7 KiB, free: 366.1 MiB)\n",
      "24/03/06 21:45:58 INFO BlockManagerInfo: Removed broadcast_28_piece0 on 192.168.2.250:10006 in memory (size: 18.7 KiB, free: 366.0 MiB)\n",
      "24/03/06 21:45:58 INFO BlockManagerInfo: Removed broadcast_24_piece0 on host-192-168-2-147-de1:10005 in memory (size: 34.8 KiB, free: 434.1 MiB)\n",
      "24/03/06 21:45:58 INFO BlockManagerInfo: Removed broadcast_24_piece0 on 192.168.2.250:10006 in memory (size: 34.8 KiB, free: 366.1 MiB)\n",
      "24/03/06 21:45:58 INFO BlockManagerInfo: Removed broadcast_24_piece0 on 192.168.2.250:10005 in memory (size: 34.8 KiB, free: 366.1 MiB)\n",
      "24/03/06 21:45:58 INFO BlockManagerInfo: Removed broadcast_34_piece0 on host-192-168-2-147-de1:10005 in memory (size: 22.8 KiB, free: 434.2 MiB)\n",
      "24/03/06 21:45:58 INFO BlockManagerInfo: Removed broadcast_34_piece0 on 192.168.2.250:10006 in memory (size: 22.8 KiB, free: 366.1 MiB)\n",
      "24/03/06 21:45:58 INFO BlockManagerInfo: Removed broadcast_34_piece0 on 192.168.2.250:10005 in memory (size: 22.8 KiB, free: 366.1 MiB)\n",
      "24/03/06 21:45:58 INFO BlockManagerInfo: Removed broadcast_35_piece0 on host-192-168-2-147-de1:10005 in memory (size: 23.3 KiB, free: 434.2 MiB)\n",
      "24/03/06 21:45:58 INFO BlockManagerInfo: Removed broadcast_35_piece0 on 192.168.2.250:10006 in memory (size: 23.3 KiB, free: 366.1 MiB)\n",
      "24/03/06 21:45:58 INFO BlockManagerInfo: Removed broadcast_33_piece0 on host-192-168-2-147-de1:10005 in memory (size: 34.8 KiB, free: 434.2 MiB)\n",
      "24/03/06 21:45:58 INFO BlockManagerInfo: Removed broadcast_33_piece0 on 192.168.2.250:10005 in memory (size: 34.8 KiB, free: 366.2 MiB)\n",
      "24/03/06 21:45:58 INFO BlockManagerInfo: Removed broadcast_33_piece0 on 192.168.2.250:10006 in memory (size: 34.8 KiB, free: 366.2 MiB)\n",
      "24/03/06 21:45:58 INFO BlockManagerInfo: Removed broadcast_31_piece0 on host-192-168-2-147-de1:10005 in memory (size: 22.8 KiB, free: 434.2 MiB)\n",
      "24/03/06 21:45:58 INFO BlockManagerInfo: Removed broadcast_31_piece0 on 192.168.2.250:10006 in memory (size: 22.8 KiB, free: 366.2 MiB)\n",
      "24/03/06 21:45:58 INFO BlockManagerInfo: Removed broadcast_31_piece0 on 192.168.2.250:10005 in memory (size: 22.8 KiB, free: 366.2 MiB)\n",
      "24/03/06 21:45:58 INFO BlockManagerInfo: Removed broadcast_29_piece0 on host-192-168-2-147-de1:10005 in memory (size: 20.1 KiB, free: 434.3 MiB)\n",
      "24/03/06 21:45:58 INFO BlockManagerInfo: Removed broadcast_29_piece0 on 192.168.2.250:10006 in memory (size: 20.1 KiB, free: 366.2 MiB)\n",
      "24/03/06 21:45:58 INFO BlockManagerInfo: Removed broadcast_30_piece0 on host-192-168-2-147-de1:10005 in memory (size: 34.8 KiB, free: 434.3 MiB)\n",
      "24/03/06 21:45:58 INFO BlockManagerInfo: Removed broadcast_30_piece0 on 192.168.2.250:10005 in memory (size: 34.8 KiB, free: 366.2 MiB)\n",
      "24/03/06 21:45:58 INFO BlockManagerInfo: Removed broadcast_30_piece0 on 192.168.2.250:10006 in memory (size: 34.8 KiB, free: 366.2 MiB)\n",
      "24/03/06 21:45:58 INFO BlockManagerInfo: Removed broadcast_27_piece0 on host-192-168-2-147-de1:10005 in memory (size: 34.8 KiB, free: 434.3 MiB)\n",
      "24/03/06 21:45:58 INFO BlockManagerInfo: Removed broadcast_27_piece0 on 192.168.2.250:10005 in memory (size: 34.8 KiB, free: 366.3 MiB)\n",
      "24/03/06 21:45:58 INFO BlockManagerInfo: Removed broadcast_27_piece0 on 192.168.2.250:10006 in memory (size: 34.8 KiB, free: 366.3 MiB)\n"
     ]
    }
   ],
   "source": [
    "# Find the most frequent color value for Toyotas (TOYT)\n",
    "dataframe.filter(dataframe[\"Make\"] == \"TOYT\").groupBy(\"ColorLong\").count().orderBy(\"count\", ascending=False).show(1)"
   ]
  }
 ],
 "metadata": {
  "kernelspec": {
   "display_name": "Python 3 (ipykernel)",
   "language": "python",
   "name": "python3"
  },
  "language_info": {
   "codemirror_mode": {
    "name": "ipython",
    "version": 3
   },
   "file_extension": ".py",
   "mimetype": "text/x-python",
   "name": "python",
   "nbconvert_exporter": "python",
   "pygments_lexer": "ipython3",
   "version": "3.8.10"
  }
 },
 "nbformat": 4,
 "nbformat_minor": 5
}

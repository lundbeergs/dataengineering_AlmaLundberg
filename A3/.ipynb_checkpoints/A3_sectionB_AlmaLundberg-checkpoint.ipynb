{
 "cells": [
  {
   "cell_type": "code",
   "execution_count": 1,
   "id": "5356271e-e67c-4b38-b535-72b5b5418b51",
   "metadata": {},
   "outputs": [
    {
     "name": "stderr",
     "output_type": "stream",
     "text": [
      "Setting default log level to \"WARN\".\n",
      "To adjust logging level use sc.setLogLevel(newLevel). For SparkR, use setLogLevel(newLevel).\n",
      "24/03/06 22:23:55 WARN NativeCodeLoader: Unable to load native-hadoop library for your platform... using builtin-java classes where applicable\n"
     ]
    }
   ],
   "source": [
    "from pyspark.sql import SparkSession\n",
    "from operator import add\n",
    "\n",
    "spark_session = SparkSession\\\n",
    "        .builder\\\n",
    "        .master(\"spark://192.168.2.250:7077\") \\\n",
    "        .appName(\"AlmaLundbergSparkapplicationA3_B\")\\\n",
    "        .config(\"spark.dynamicAllocation.enabled\", False)\\\n",
    "        .config(\"spark.cores.max\", 4)\\\n",
    "        .config(\"spark.dynamicAllocation.shuffleTracking.enabled\",True)\\\n",
    "        .config(\"spark.shuffle.service.enabled\", False)\\\n",
    "        .config(\"spark.dynamicAllocation.executorIdleTimeout\",\"30s\")\\\n",
    "        .config(\"spark.executor.cores\",2)\\\n",
    "        .config(\"spark.driver.port\",9999)\\\n",
    "        .config(\"spark.blockManager.port\",10005)\\\n",
    "        .getOrCreate()\n",
    "\n",
    "# RDD API \n",
    "spark_context = spark_session.sparkContext\n",
    "\n",
    "spark_context.setLogLevel(\"ERROR\")"
   ]
  },
  {
   "cell_type": "code",
   "execution_count": 2,
   "id": "432c57ab-1079-4328-8f52-6cf540e1626b",
   "metadata": {},
   "outputs": [
    {
     "name": "stderr",
     "output_type": "stream",
     "text": [
      "                                                                                \r"
     ]
    },
    {
     "name": "stdout",
     "output_type": "stream",
     "text": [
      "+-------------+-------------------+----------+--------+-----------+--------------+-----------------+----+----+----------+-----+--------------------+-----+------+--------------+---------------------+-----------+---------+---------+------------------+-----------------+----------------------+\n",
      "|Ticket number|         Issue Date|Issue time|Meter Id|Marked Time|RP State Plate|Plate Expiry Date| VIN|Make|Body Style|Color|            Location|Route|Agency|Violation code|Violation Description|Fine amount| Latitude|Longitude|Agency Description|Color Description|Body Style Description|\n",
      "+-------------+-------------------+----------+--------+-----------+--------------+-----------------+----+----+----------+-----+--------------------+-----+------+--------------+---------------------+-----------+---------+---------+------------------+-----------------+----------------------+\n",
      "|   1103341116|2015-12-21 00:00:00|    1251.0|    NULL|       NULL|            CA|         200304.0|NULL|HOND|        PA|   GY|     13147 WELBY WAY|01521|   1.0|        4000A1|   NO EVIDENCE OF REG|       50.0|  99999.0|  99999.0|              NULL|             NULL|                  NULL|\n",
      "|   1103700150|2015-12-21 00:00:00|    1435.0|    NULL|       NULL|            CA|         201512.0|NULL| GMC|        VN|   WH|       525 S MAIN ST| 1C51|   1.0|        4000A1|   NO EVIDENCE OF REG|       50.0|  99999.0|  99999.0|              NULL|             NULL|                  NULL|\n",
      "|   1104803000|2015-12-21 00:00:00|    2055.0|    NULL|       NULL|            CA|         201503.0|NULL|NISS|        PA|   BK|       200 WORLD WAY|  2R2|   2.0|          8939|           WHITE CURB|       58.0|6439997.9|1802686.4|              NULL|             NULL|                  NULL|\n",
      "|   1104820732|2015-12-26 00:00:00|    1515.0|    NULL|       NULL|            CA|             NULL|NULL|ACUR|        PA|   WH|       100 WORLD WAY| 2F11|   2.0|           000|               17104h|       NULL|6440041.1|1802686.2|              NULL|             NULL|                  NULL|\n",
      "|   1105461453|2015-09-15 00:00:00|     115.0|    NULL|       NULL|            CA|         200316.0|NULL|CHEV|        PA|   BK|  GEORGIA ST/OLYMPIC|1FB70|   1.0|         8069A| NO STOPPING/STANDING|       93.0|  99999.0|  99999.0|              NULL|             NULL|                  NULL|\n",
      "|   1106226590|2015-09-15 00:00:00|      19.0|    NULL|       NULL|            CA|         201507.0|NULL|CHEV|        VN|   GY|  SAN PEDRO S/O BOYD|1A35W|   1.0|        4000A1|   NO EVIDENCE OF REG|       50.0|  99999.0|  99999.0|              NULL|             NULL|                  NULL|\n",
      "|   1106500452|2015-12-17 00:00:00|    1710.0|    NULL|       NULL|            CA|         201605.0|NULL|MAZD|        PA|   BL|     SUNSET/ALVARADO|00217|   1.0|          8070| PARK IN GRID LOCK ZN|      163.0|  99999.0|  99999.0|              NULL|             NULL|                  NULL|\n",
      "|   1106500463|2015-12-17 00:00:00|    1710.0|    NULL|       NULL|            CA|         201602.0|NULL|TOYO|        PA|   BK|     SUNSET/ALVARADO|00217|   1.0|          8070| PARK IN GRID LOCK ZN|      163.0|  99999.0|  99999.0|              NULL|             NULL|                  NULL|\n",
      "|   1106506402|2015-12-22 00:00:00|     945.0|    NULL|       NULL|            CA|         201605.0|NULL|CHEV|        PA|   BR|      721 S WESTLAKE| 2A75|   1.0|        8069AA|     NO STOP/STAND AM|       93.0|  99999.0|  99999.0|              NULL|             NULL|                  NULL|\n",
      "|   1106506413|2015-12-22 00:00:00|    1100.0|    NULL|       NULL|            CA|         201701.0|NULL|NISS|        PA|   SI|     1159 HUNTLEY DR| 2A75|   1.0|        8069AA|     NO STOP/STAND AM|       93.0|  99999.0|  99999.0|              NULL|             NULL|                  NULL|\n",
      "|   1106506424|2015-12-22 00:00:00|    1100.0|    NULL|       NULL|            CA|         201511.0|NULL|FORD|        TR|   WH|     1159 HUNTLEY DR| 2A75|   1.0|        8069AA|     NO STOP/STAND AM|       93.0|  99999.0|  99999.0|              NULL|             NULL|                  NULL|\n",
      "|   1106506435|2015-12-22 00:00:00|    1105.0|    NULL|       NULL|            CA|         201701.0|NULL|CHRY|        PA|   GO|     1159 HUNTLEY DR| 2A75|   1.0|        8069AA|     NO STOP/STAND AM|       93.0|  99999.0|  99999.0|              NULL|             NULL|                  NULL|\n",
      "|   1106506446|2015-12-22 00:00:00|    1110.0|    NULL|       NULL|            CA|         201511.0|NULL| BMW|        PA|   BK|      1200 W MIRAMAR| 2A75|   1.0|        4000A1|   NO EVIDENCE OF REG|       50.0|  99999.0|  99999.0|              NULL|             NULL|                  NULL|\n",
      "|   1106549754|2015-12-15 00:00:00|     825.0|    NULL|       NULL|            CA|         201607.0|NULL|PTRB|        TR|   BK|           4TH/STATE| CM96|   1.0|         8069A| NO STOPPING/STANDING|       93.0|  99999.0|  99999.0|              NULL|             NULL|                  NULL|\n",
      "|   1107179581|2015-12-27 00:00:00|    1055.0|    NULL|       NULL|            CA|         201605.0|NULL|TOYO|        PA|   BK|3100 N HOLLYRIDGE DR| NULL|  54.0|         8058L|         PREF PARKING|       68.0|  99999.0|  99999.0|              NULL|             NULL|                  NULL|\n",
      "|   1107179592|2015-12-27 00:00:00|    1200.0|    NULL|       NULL|            CA|         201602.0|NULL|MBNZ|        PA|   BK|   3115 N BERENDO DR| NULL|  54.0|         8058L|         PREF PARKING|       68.0|  99999.0|  99999.0|              NULL|             NULL|                  NULL|\n",
      "|   1107179603|2015-12-27 00:00:00|    1400.0|    NULL|       NULL|            CA|         201611.0|NULL|NISS|        PA|   WH| 3100 N BEACHWOOD DR| NULL|  54.0|         8058L|         PREF PARKING|       68.0|  99999.0|  99999.0|              NULL|             NULL|                  NULL|\n",
      "|   1107539823|2015-09-16 00:00:00|    2120.0|    NULL|       NULL|            CA|         201502.0|NULL|NISS|        PA| NULL|      BLAINE/11TH PL|1FB95|   1.0|        4000A1|   NO EVIDENCE OF REG|       50.0|  99999.0|  99999.0|              NULL|             NULL|                  NULL|\n",
      "|   1107539834|2015-09-16 00:00:00|    1045.0|    NULL|       NULL|            CA|             NULL|NULL|CHEV|        PA|   BK|  1246 S FIGUEROA ST| 1L20|   1.0|        8069AP|     NO STOP/STAND PM|       93.0|  99999.0|  99999.0|              NULL|             NULL|                  NULL|\n",
      "|   1107780811|2015-12-22 00:00:00|    1102.0|    NULL|       NULL|            CA|         201606.0|NULL|HOND|        PA|   BK|       PLATA/RAMPART|  2A1|   1.0|         8069B|           NO PARKING|       73.0|  99999.0|  99999.0|              NULL|             NULL|                  NULL|\n",
      "+-------------+-------------------+----------+--------+-----------+--------------+-----------------+----+----+----------+-----+--------------------+-----+------+--------------+---------------------+-----------+---------+---------+------------------+-----------------+----------------------+\n",
      "only showing top 20 rows\n",
      "\n"
     ]
    }
   ],
   "source": [
    "# Section B - Working with DataFrames and SQL\n",
    "\n",
    "dataframe = spark_session.read.csv(\"hdfs://192.168.2.250:9000/parking-citations.csv\", header = True, inferSchema=True)\n",
    "dataframe.show()"
   ]
  },
  {
   "cell_type": "code",
   "execution_count": 3,
   "id": "6095ade1-6e24-4974-b942-43ddddd005e5",
   "metadata": {},
   "outputs": [
    {
     "name": "stdout",
     "output_type": "stream",
     "text": [
      "root\n",
      " |-- Ticket number: string (nullable = true)\n",
      " |-- Issue Date: timestamp (nullable = true)\n",
      " |-- Issue time: double (nullable = true)\n",
      " |-- Meter Id: string (nullable = true)\n",
      " |-- Marked Time: double (nullable = true)\n",
      " |-- RP State Plate: string (nullable = true)\n",
      " |-- Plate Expiry Date: double (nullable = true)\n",
      " |-- VIN: string (nullable = true)\n",
      " |-- Make: string (nullable = true)\n",
      " |-- Body Style: string (nullable = true)\n",
      " |-- Color: string (nullable = true)\n",
      " |-- Location: string (nullable = true)\n",
      " |-- Route: string (nullable = true)\n",
      " |-- Agency: double (nullable = true)\n",
      " |-- Violation code: string (nullable = true)\n",
      " |-- Violation Description: string (nullable = true)\n",
      " |-- Fine amount: double (nullable = true)\n",
      " |-- Latitude: double (nullable = true)\n",
      " |-- Longitude: double (nullable = true)\n",
      " |-- Agency Description: string (nullable = true)\n",
      " |-- Color Description: string (nullable = true)\n",
      " |-- Body Style Description: string (nullable = true)\n",
      "\n"
     ]
    }
   ],
   "source": [
    "dataframe.printSchema()"
   ]
  },
  {
   "cell_type": "code",
   "execution_count": 4,
   "id": "5192a0f5-cccb-40b4-a82f-764eb6d5300c",
   "metadata": {},
   "outputs": [
    {
     "name": "stderr",
     "output_type": "stream",
     "text": [
      "[Stage 3:=================================================>       (14 + 2) / 16]\r"
     ]
    },
    {
     "name": "stdout",
     "output_type": "stream",
     "text": [
      "Number of rows: 13077724\n"
     ]
    },
    {
     "name": "stderr",
     "output_type": "stream",
     "text": [
      "                                                                                \r"
     ]
    }
   ],
   "source": [
    "# Row count of CSV file\n",
    "print(f\"Number of rows: {dataframe.count()}\")"
   ]
  },
  {
   "cell_type": "code",
   "execution_count": 5,
   "id": "664dca96-7afd-433b-a063-c4ac02f8fe6d",
   "metadata": {},
   "outputs": [
    {
     "name": "stdout",
     "output_type": "stream",
     "text": [
      "Number of partitions: 16\n"
     ]
    }
   ],
   "source": [
    "# Number of partitions in the underlying RDD\n",
    "print(f\"Number of partitions: {dataframe.rdd.getNumPartitions()}\")"
   ]
  },
  {
   "cell_type": "code",
   "execution_count": 6,
   "id": "af87bafd-6b28-4ebe-a58b-80d454cb94b1",
   "metadata": {},
   "outputs": [],
   "source": [
    "# Drop the columns VIN, Latitude, and Longitude\n",
    "dataframe = dataframe.drop(\"VIN\", \"Latitude\", \"Longitude\")"
   ]
  },
  {
   "cell_type": "code",
   "execution_count": 7,
   "id": "b6ab7785-0528-4f33-8481-71a843262771",
   "metadata": {},
   "outputs": [
    {
     "name": "stdout",
     "output_type": "stream",
     "text": [
      "+-------------+-------------------+----------+--------+-----------+--------------+-----------------+----+----------+-----+--------------------+-----+------+--------------+---------------------+-----------+------------------+-----------------+----------------------+---------------+\n",
      "|Ticket number|         Issue Date|Issue time|Meter Id|Marked Time|RP State Plate|Plate Expiry Date|Make|Body Style|Color|            Location|Route|Agency|Violation code|Violation Description|Fine amount|Agency Description|Color Description|Body Style Description|FineAmountFloat|\n",
      "+-------------+-------------------+----------+--------+-----------+--------------+-----------------+----+----------+-----+--------------------+-----+------+--------------+---------------------+-----------+------------------+-----------------+----------------------+---------------+\n",
      "|   1103341116|2015-12-21 00:00:00|    1251.0|    NULL|       NULL|            CA|         200304.0|HOND|        PA|   GY|     13147 WELBY WAY|01521|   1.0|        4000A1|   NO EVIDENCE OF REG|       50.0|              NULL|             NULL|                  NULL|           50.0|\n",
      "|   1103700150|2015-12-21 00:00:00|    1435.0|    NULL|       NULL|            CA|         201512.0| GMC|        VN|   WH|       525 S MAIN ST| 1C51|   1.0|        4000A1|   NO EVIDENCE OF REG|       50.0|              NULL|             NULL|                  NULL|           50.0|\n",
      "|   1104803000|2015-12-21 00:00:00|    2055.0|    NULL|       NULL|            CA|         201503.0|NISS|        PA|   BK|       200 WORLD WAY|  2R2|   2.0|          8939|           WHITE CURB|       58.0|              NULL|             NULL|                  NULL|           58.0|\n",
      "|   1104820732|2015-12-26 00:00:00|    1515.0|    NULL|       NULL|            CA|             NULL|ACUR|        PA|   WH|       100 WORLD WAY| 2F11|   2.0|           000|               17104h|       NULL|              NULL|             NULL|                  NULL|           NULL|\n",
      "|   1105461453|2015-09-15 00:00:00|     115.0|    NULL|       NULL|            CA|         200316.0|CHEV|        PA|   BK|  GEORGIA ST/OLYMPIC|1FB70|   1.0|         8069A| NO STOPPING/STANDING|       93.0|              NULL|             NULL|                  NULL|           93.0|\n",
      "|   1106226590|2015-09-15 00:00:00|      19.0|    NULL|       NULL|            CA|         201507.0|CHEV|        VN|   GY|  SAN PEDRO S/O BOYD|1A35W|   1.0|        4000A1|   NO EVIDENCE OF REG|       50.0|              NULL|             NULL|                  NULL|           50.0|\n",
      "|   1106500452|2015-12-17 00:00:00|    1710.0|    NULL|       NULL|            CA|         201605.0|MAZD|        PA|   BL|     SUNSET/ALVARADO|00217|   1.0|          8070| PARK IN GRID LOCK ZN|      163.0|              NULL|             NULL|                  NULL|          163.0|\n",
      "|   1106500463|2015-12-17 00:00:00|    1710.0|    NULL|       NULL|            CA|         201602.0|TOYO|        PA|   BK|     SUNSET/ALVARADO|00217|   1.0|          8070| PARK IN GRID LOCK ZN|      163.0|              NULL|             NULL|                  NULL|          163.0|\n",
      "|   1106506402|2015-12-22 00:00:00|     945.0|    NULL|       NULL|            CA|         201605.0|CHEV|        PA|   BR|      721 S WESTLAKE| 2A75|   1.0|        8069AA|     NO STOP/STAND AM|       93.0|              NULL|             NULL|                  NULL|           93.0|\n",
      "|   1106506413|2015-12-22 00:00:00|    1100.0|    NULL|       NULL|            CA|         201701.0|NISS|        PA|   SI|     1159 HUNTLEY DR| 2A75|   1.0|        8069AA|     NO STOP/STAND AM|       93.0|              NULL|             NULL|                  NULL|           93.0|\n",
      "|   1106506424|2015-12-22 00:00:00|    1100.0|    NULL|       NULL|            CA|         201511.0|FORD|        TR|   WH|     1159 HUNTLEY DR| 2A75|   1.0|        8069AA|     NO STOP/STAND AM|       93.0|              NULL|             NULL|                  NULL|           93.0|\n",
      "|   1106506435|2015-12-22 00:00:00|    1105.0|    NULL|       NULL|            CA|         201701.0|CHRY|        PA|   GO|     1159 HUNTLEY DR| 2A75|   1.0|        8069AA|     NO STOP/STAND AM|       93.0|              NULL|             NULL|                  NULL|           93.0|\n",
      "|   1106506446|2015-12-22 00:00:00|    1110.0|    NULL|       NULL|            CA|         201511.0| BMW|        PA|   BK|      1200 W MIRAMAR| 2A75|   1.0|        4000A1|   NO EVIDENCE OF REG|       50.0|              NULL|             NULL|                  NULL|           50.0|\n",
      "|   1106549754|2015-12-15 00:00:00|     825.0|    NULL|       NULL|            CA|         201607.0|PTRB|        TR|   BK|           4TH/STATE| CM96|   1.0|         8069A| NO STOPPING/STANDING|       93.0|              NULL|             NULL|                  NULL|           93.0|\n",
      "|   1107179581|2015-12-27 00:00:00|    1055.0|    NULL|       NULL|            CA|         201605.0|TOYO|        PA|   BK|3100 N HOLLYRIDGE DR| NULL|  54.0|         8058L|         PREF PARKING|       68.0|              NULL|             NULL|                  NULL|           68.0|\n",
      "|   1107179592|2015-12-27 00:00:00|    1200.0|    NULL|       NULL|            CA|         201602.0|MBNZ|        PA|   BK|   3115 N BERENDO DR| NULL|  54.0|         8058L|         PREF PARKING|       68.0|              NULL|             NULL|                  NULL|           68.0|\n",
      "|   1107179603|2015-12-27 00:00:00|    1400.0|    NULL|       NULL|            CA|         201611.0|NISS|        PA|   WH| 3100 N BEACHWOOD DR| NULL|  54.0|         8058L|         PREF PARKING|       68.0|              NULL|             NULL|                  NULL|           68.0|\n",
      "|   1107539823|2015-09-16 00:00:00|    2120.0|    NULL|       NULL|            CA|         201502.0|NISS|        PA| NULL|      BLAINE/11TH PL|1FB95|   1.0|        4000A1|   NO EVIDENCE OF REG|       50.0|              NULL|             NULL|                  NULL|           50.0|\n",
      "|   1107539834|2015-09-16 00:00:00|    1045.0|    NULL|       NULL|            CA|             NULL|CHEV|        PA|   BK|  1246 S FIGUEROA ST| 1L20|   1.0|        8069AP|     NO STOP/STAND PM|       93.0|              NULL|             NULL|                  NULL|           93.0|\n",
      "|   1107780811|2015-12-22 00:00:00|    1102.0|    NULL|       NULL|            CA|         201606.0|HOND|        PA|   BK|       PLATA/RAMPART|  2A1|   1.0|         8069B|           NO PARKING|       73.0|              NULL|             NULL|                  NULL|           73.0|\n",
      "+-------------+-------------------+----------+--------+-----------+--------------+-----------------+----+----------+-----+--------------------+-----+------+--------------+---------------------+-----------+------------------+-----------------+----------------------+---------------+\n",
      "only showing top 20 rows\n",
      "\n"
     ]
    }
   ],
   "source": [
    "from pyspark.sql.functions import col\n",
    "\n",
    "# Add new column from Fine amount as float\n",
    "dataframe = dataframe.withColumn(\"FineAmountFloat\", col(\"Fine amount\").cast(\"float\"))\n",
    "\n",
    "# Show the DataFrame to verify the new column\n",
    "dataframe.show()"
   ]
  },
  {
   "cell_type": "code",
   "execution_count": 8,
   "id": "801f0880-c1be-4e00-8b12-fa3287530f77",
   "metadata": {},
   "outputs": [
    {
     "name": "stdout",
     "output_type": "stream",
     "text": [
      "root\n",
      " |-- Ticket number: string (nullable = true)\n",
      " |-- Issue Date: timestamp (nullable = true)\n",
      " |-- Issue time: double (nullable = true)\n",
      " |-- Meter Id: string (nullable = true)\n",
      " |-- Marked Time: double (nullable = true)\n",
      " |-- RP State Plate: string (nullable = true)\n",
      " |-- Plate Expiry Date: double (nullable = true)\n",
      " |-- Make: string (nullable = true)\n",
      " |-- Body Style: string (nullable = true)\n",
      " |-- Color: string (nullable = true)\n",
      " |-- Location: string (nullable = true)\n",
      " |-- Route: string (nullable = true)\n",
      " |-- Agency: double (nullable = true)\n",
      " |-- Violation code: string (nullable = true)\n",
      " |-- Violation Description: string (nullable = true)\n",
      " |-- Fine amount: double (nullable = true)\n",
      " |-- Agency Description: string (nullable = true)\n",
      " |-- Color Description: string (nullable = true)\n",
      " |-- Body Style Description: string (nullable = true)\n",
      " |-- FineAmountFloat: float (nullable = true)\n",
      "\n"
     ]
    }
   ],
   "source": [
    "# Check that the new column was added\n",
    "dataframe.printSchema()"
   ]
  },
  {
   "cell_type": "code",
   "execution_count": 9,
   "id": "2e87ac18-679e-4317-935e-9ecdfc41bc14",
   "metadata": {},
   "outputs": [
    {
     "name": "stderr",
     "output_type": "stream",
     "text": [
      "                                                                                \r"
     ]
    },
    {
     "name": "stdout",
     "output_type": "stream",
     "text": [
      "Maximum fine amount: 1100.0\n"
     ]
    }
   ],
   "source": [
    "# Find the maximum fine amount\n",
    "max_fine = dataframe.agg({\"FineAmountFloat\": \"max\"}).collect()[0][0]\n",
    "\n",
    "# Print the maximum fine amount\n",
    "print(f\"Maximum fine amount: {max_fine}\")"
   ]
  },
  {
   "cell_type": "code",
   "execution_count": 10,
   "id": "478ac1ae-04be-48b7-a9f7-00f661dff0fc",
   "metadata": {},
   "outputs": [
    {
     "name": "stderr",
     "output_type": "stream",
     "text": [
      "[Stage 10:====================================================>   (15 + 1) / 16]\r"
     ]
    },
    {
     "name": "stdout",
     "output_type": "stream",
     "text": [
      "Count of maximum fines: 626\n"
     ]
    },
    {
     "name": "stderr",
     "output_type": "stream",
     "text": [
      "                                                                                \r"
     ]
    }
   ],
   "source": [
    "# Count how many fines have this maximum amount\n",
    "max_fine_count = dataframe.filter(col(\"FineAmountFloat\") == max_fine).count()\n",
    "\n",
    "print(f\"Count of maximum fines: {max_fine_count}\")"
   ]
  },
  {
   "cell_type": "code",
   "execution_count": 11,
   "id": "361d8b39-0297-4dec-aa94-558035fb1e85",
   "metadata": {},
   "outputs": [
    {
     "name": "stderr",
     "output_type": "stream",
     "text": [
      "[Stage 13:====================================================>   (15 + 1) / 16]\r"
     ]
    },
    {
     "name": "stdout",
     "output_type": "stream",
     "text": [
      "+----+-------+\n",
      "|Make|  count|\n",
      "+----+-------+\n",
      "|TOYT|2150768|\n",
      "|HOND|1479996|\n",
      "|FORD|1116235|\n",
      "|NISS| 945133|\n",
      "|CHEV| 892676|\n",
      "| BMW| 603092|\n",
      "|MERZ| 543298|\n",
      "|VOLK| 432030|\n",
      "|HYUN| 404917|\n",
      "|DODG| 391686|\n",
      "|LEXS| 368420|\n",
      "| KIA| 328155|\n",
      "|JEEP| 316300|\n",
      "|AUDI| 255395|\n",
      "|MAZD| 242344|\n",
      "|OTHR| 205546|\n",
      "| GMC| 184889|\n",
      "|INFI| 174315|\n",
      "|CHRY| 159948|\n",
      "|SUBA| 154640|\n",
      "+----+-------+\n",
      "only showing top 20 rows\n",
      "\n"
     ]
    },
    {
     "name": "stderr",
     "output_type": "stream",
     "text": [
      "                                                                                \r"
     ]
    }
   ],
   "source": [
    "from pyspark.sql import functions as pyfuncs\n",
    "\n",
    "# Show the top 20 most frequent vehicle makes, and their frequencies\n",
    "vehicle_makes = dataframe.groupBy(\"Make\").count()\n",
    "\n",
    "sorted_makes = vehicle_makes.orderBy(\"Count\", ascending=False).show(20)"
   ]
  },
  {
   "cell_type": "code",
   "execution_count": 12,
   "id": "476f17ef-6d01-456f-8cb5-dc88317da191",
   "metadata": {},
   "outputs": [],
   "source": [
    "# Expand abbreviations in the color column using a User Defined Function\n",
    "from pyspark.sql.functions import udf\n",
    "from pyspark.sql.types import StringType\n",
    "\n",
    "# Define a dictionary mapping color abbreviations to their full names\n",
    "COLORS = {\n",
    "    'AL': 'Aluminum', 'AM': 'Amber', 'BG': 'Beige', 'BK': 'Black',\n",
    "    'BL': 'Blue', 'BN': 'Brown', 'BR': 'Brown', 'BZ': 'Bronze',\n",
    "    'CH': 'Charcoal', 'DK': 'Dark', 'GD': 'Gold', 'GO': 'Gold',\n",
    "    'GN': 'Green', 'GY': 'Gray', 'GT': 'Granite', 'IV': 'Ivory',\n",
    "    'LT': 'Light', 'OL': 'Olive', 'OR': 'Orange', 'MR': 'Maroon',\n",
    "    'PK': 'Pink', 'RD': 'Red', 'RE': 'Red', 'SI': 'Silver', 'SL': 'Silver',\n",
    "    'SM': 'Smoke', 'TN': 'Tan', 'VT': 'Violet', 'WT': 'White', 'WH': 'White',\n",
    "    'YL': 'Yellow', 'YE': 'Yellow', 'UN': 'Unknown'\n",
    "}\n",
    "\n",
    "# The function takes a color abbreviation and returns the full color name using the dictionary defined above\n",
    "# if there is no key matching the original color, the original color is returned\n",
    "def expand_color_abbreviation(color_abbr):\n",
    "    return COLORS.get(color_abbr, color_abbr)\n",
    "\n",
    "# chekc the udf with Spark, specifying the return type as StringType\n",
    "expand_color_udf = udf(expand_color_abbreviation, StringType())\n",
    "\n",
    "# apply the udf to the Color column of the DataFrame, creates a new column ColorLong with expanded color names\n",
    "dataframe = dataframe.withColumn(\"ColorLong\", expand_color_udf(dataframe[\"Color\"]))"
   ]
  },
  {
   "cell_type": "code",
   "execution_count": 13,
   "id": "9aaed7a6-123c-410d-ab25-52c547876610",
   "metadata": {},
   "outputs": [
    {
     "name": "stderr",
     "output_type": "stream",
     "text": [
      "[Stage 16:====================================================>   (15 + 1) / 16]\r"
     ]
    },
    {
     "name": "stdout",
     "output_type": "stream",
     "text": [
      "+---------+------+\n",
      "|ColorLong| count|\n",
      "+---------+------+\n",
      "|     Gray|489697|\n",
      "+---------+------+\n",
      "only showing top 1 row\n",
      "\n"
     ]
    },
    {
     "name": "stderr",
     "output_type": "stream",
     "text": [
      "                                                                                \r"
     ]
    }
   ],
   "source": [
    "# Find the most frequent color value for Toyotas (TOYT)\n",
    "dataframe.filter(dataframe[\"Make\"] == \"TOYT\").groupBy(\"ColorLong\").count().orderBy(\"count\", ascending=False).show(1)"
   ]
  },
  {
   "cell_type": "code",
   "execution_count": null,
   "id": "7c13f2f1-18d1-4ad8-b16d-abccaa141721",
   "metadata": {},
   "outputs": [],
   "source": []
  }
 ],
 "metadata": {
  "kernelspec": {
   "display_name": "Python 3 (ipykernel)",
   "language": "python",
   "name": "python3"
  },
  "language_info": {
   "codemirror_mode": {
    "name": "ipython",
    "version": 3
   },
   "file_extension": ".py",
   "mimetype": "text/x-python",
   "name": "python",
   "nbconvert_exporter": "python",
   "pygments_lexer": "ipython3",
   "version": "3.8.10"
  }
 },
 "nbformat": 4,
 "nbformat_minor": 5
}
